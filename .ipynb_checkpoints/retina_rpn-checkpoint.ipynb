{
 "cells": [
  {
   "cell_type": "code",
   "execution_count": 7,
   "metadata": {},
   "outputs": [],
   "source": [
    "import torch\n",
    "import torch.nn as nn\n",
    "import torch.optim as optim\n",
    "from modules import *\n",
    "import torchvision\n",
    "from torchvision import models\n",
    "import numpy as np\n",
    "from torchvision import transforms\n",
    "from torchvision.transforms import Compose\n",
    "import transform as transf\n",
    "from torch.utils.data import DataLoader\n",
    "from utils import bbox_collate, data2target,MixedRandomSampler\n",
    "import yaml\n",
    "import os\n",
    "import json\n",
    "import copy\n",
    "from PIL import Image\n",
    "from dataset import MedicalBboxDataset\n",
    "from make_dloader import make_data\n",
    "from visdom import Visdom\n",
    "import argparse\n",
    "import time\n",
    "import collections\n",
    "from anchor import make_anchor\n",
    "from torchvision.ops import nms"
   ]
  },
  {
   "cell_type": "code",
   "execution_count": 3,
   "metadata": {},
   "outputs": [],
   "source": [
    "oicr = resnet_rpn(3,pretrained=True)\n",
    "oicr.cuda()\n",
    "opt = optim.RMSprop(oicr.parameters(), lr = 1e-5, weight_decay=5e-4, momentum=0.9)"
   ]
  },
  {
   "cell_type": "code",
   "execution_count": 4,
   "metadata": {},
   "outputs": [
    {
     "name": "stdout",
     "output_type": "stream",
     "text": [
      "loading annotations into memory...\n",
      "Done (t=0.47s)\n",
      "creating index...\n",
      "index created!\n",
      "creating index...\n",
      "index created!\n",
      "creating index...\n",
      "index created!\n",
      "save complete!\n",
      "creating index...\n",
      "index created!\n",
      "save complete!\n",
      "creating index...\n",
      "index created!\n",
      "save complete!\n",
      "creating index...\n",
      "index created!\n",
      "save complete!\n",
      "creating index...\n",
      "index created!\n",
      "creating index...\n",
      "index created!\n"
     ]
    }
   ],
   "source": [
    "dl_t, _, _, _, _ = make_data(batchsize=2,iteration=100,val=0,p_path=0)"
   ]
  },
  {
   "cell_type": "code",
   "execution_count": 5,
   "metadata": {},
   "outputs": [],
   "source": [
    "p_box = make_anchor()"
   ]
  },
  {
   "cell_type": "code",
   "execution_count": 6,
   "metadata": {
    "scrolled": true
   },
   "outputs": [
    {
     "name": "stdout",
     "output_type": "stream",
     "text": [
      "tensor([[[ 79.9737, 122.4121, 284.3805, 229.7205],\n",
      "         [ 22.6973,  82.5398, 321.5820, 169.8648],\n",
      "         [ 78.3509,  94.6322, 270.6831, 143.7308],\n",
      "         ...,\n",
      "         [109.3690, 241.4537, 207.9002, 285.8600],\n",
      "         [127.0160, 109.4173, 131.7831, 129.2379],\n",
      "         [ 86.3705, 219.7733, 112.6472, 256.6197]],\n",
      "\n",
      "        [[  0.0000, 127.7201,   0.0000, 297.2740],\n",
      "         [  0.0000, 242.8323,   0.0000, 307.9164],\n",
      "         [  0.0000,  88.2845,   0.0000, 234.0951],\n",
      "         ...,\n",
      "         [203.1277, 153.1830, 213.8731, 195.3870],\n",
      "         [164.0582, 110.7910, 184.8007, 189.6477],\n",
      "         [116.1704, 149.4418, 168.6658, 170.0132]]], device='cuda:0')\n"
     ]
    },
    {
     "name": "stderr",
     "output_type": "stream",
     "text": [
      "/opt/conda/conda-bld/pytorch_1587428132279/work/torch/csrc/utils/python_arg_parser.cpp:756: UserWarning: This overload of nonzero is deprecated:\n",
      "\tnonzero(Tensor input, *, Tensor out)\n",
      "Consider using one of the following signatures instead:\n",
      "\tnonzero(Tensor input, *, bool as_tuple)\n"
     ]
    }
   ],
   "source": [
    "for epoch in range(1):\n",
    "    for i, data in enumerate(dl_t,1):\n",
    "        opt.zero_grad()\n",
    "        labels, n, t, v, u= data2target(data)\n",
    "        labels = labels.unsqueeze(1).unsqueeze(2).cuda().float() # bs, 1, 1, num_class\n",
    "        rois = [p_box.cuda().float() for _ in range(labels.shape[0])]\n",
    "        n = p_box.shape[0]\n",
    "        rois = torch.stack(rois, dim=0) \n",
    "        rois = rois.unsqueeze(1) #bs, 1, n, 4\n",
    "        output, loss,m,l1,l2,l3,retina,rpn = oicr(data[\"img\"].cuda().float(), labels, rois)\n",
    "        ld = retina/5\n",
    "        loss = m+l1+l2+l3+retina+rpn\n",
    "        loss = loss.mean()\n",
    "        loss.backward()\n",
    "        opt.step()\n",
    "        break"
   ]
  }
 ],
 "metadata": {
  "kernelspec": {
   "display_name": "Python 3",
   "language": "python",
   "name": "python3"
  },
  "language_info": {
   "codemirror_mode": {
    "name": "ipython",
    "version": 3
   },
   "file_extension": ".py",
   "mimetype": "text/x-python",
   "name": "python",
   "nbconvert_exporter": "python",
   "pygments_lexer": "ipython3",
   "version": "3.8.2"
  }
 },
 "nbformat": 4,
 "nbformat_minor": 4
}
