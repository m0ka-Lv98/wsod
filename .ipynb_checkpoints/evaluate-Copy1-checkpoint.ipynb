{
 "cells": [
  {
   "cell_type": "code",
   "execution_count": 63,
   "metadata": {},
   "outputs": [],
   "source": [
    "from pycocotools.cocoeval import COCOeval\n",
    "import json\n",
    "import torch\n",
    "import transform as transf\n",
    "from torchvision.transforms import Compose\n",
    "import yaml\n",
    "from dataset import MedicalBboxDataset\n",
    "from model import ResNet50\n",
    "import numpy as np\n",
    "from utils import bbox_collate, data2target, calc_confusion_matrix, draw_graph"
   ]
  },
  {
   "cell_type": "code",
   "execution_count": 71,
   "metadata": {},
   "outputs": [],
   "source": [
    "def evaluate_coco(val, threshold=0.05):\n",
    "    config = yaml.safe_load(open('./config.yaml'))\n",
    "    dataset_means = json.load(open(config['dataset']['mean_file']))\n",
    "    dataset_all = MedicalBboxDataset(\n",
    "        config['dataset']['annotation_file'],\n",
    "        config['dataset']['image_root'])\n",
    "    if 'class_integration' in config['dataset']:\n",
    "        dataset_all = dataset_all.integrate_classes(\n",
    "            config['dataset']['class_integration']['new'],\n",
    "            config['dataset']['class_integration']['map'])\n",
    "    \n",
    "    transform = Compose([\n",
    "        transf.ToFixedSize([config['inputsize']] * 2),  # inputsize x inputsizeの画像に変換\n",
    "        transf.Normalize(dataset_means['mean'], dataset_means['std']),\n",
    "        transf.HWCToCHW()\n",
    "        ])\n",
    "\n",
    "    dataset = dataset_all.split(val, config['dataset']['split_file'])\n",
    "    dataset.set_transform(transform)\n",
    "    \n",
    "    model = torch.load(f'/data/unagi0/masaoka/retinanet/retinanet50_[{val}].pt')\n",
    "    model = model.cuda()\n",
    "    model.eval()\n",
    "    with torch.no_grad():\n",
    "\n",
    "        # start collecting results\n",
    "        results = []\n",
    "        image_ids = []\n",
    "\n",
    "        for index in range(len(dataset)):\n",
    "            data = dataset[index]\n",
    "            scale = 1   #data['scale']\n",
    "            data['img'] = torch.from_numpy(data['img']) #.permute(2, 0, 1)\n",
    "            \n",
    "\n",
    "            # run network\n",
    "            if torch.cuda.is_available():\n",
    "                scores, labels, boxes = model(data['img'].cuda().float().unsqueeze(dim=0))\n",
    "               \n",
    "            else:\n",
    "                scores, labels, boxes = model(data['img'].float().unsqueeze(dim=0))\n",
    "            scores = scores.cpu()\n",
    "            labels = labels.cpu()\n",
    "            boxes  = boxes.cpu()\n",
    "\n",
    "            # correct boxes for image scale\n",
    "            boxes /= scale\n",
    "\n",
    "            if boxes.shape[0] > 0:\n",
    "                # change to (x, y, w, h) (MS COCO standard)\n",
    "                boxes[:, 2] -= boxes[:, 0]\n",
    "                boxes[:, 3] -= boxes[:, 1]\n",
    "\n",
    "                # compute predicted labels and scores\n",
    "                #for box, score, label in zip(boxes[0], scores[0], labels[0]):\n",
    "                for box_id in range(boxes.shape[0]):\n",
    "                    score = float(scores[box_id])\n",
    "                    label = int(labels[box_id])\n",
    "                    box = boxes[box_id, :]\n",
    "\n",
    "                    # scores are sorted, so we can break\n",
    "                    if score < threshold:\n",
    "                        break\n",
    "\n",
    "                    # append detection for each positively labeled class\n",
    "                    image_result = {\n",
    "                        'image_id'    : dataset.imgids[index],\n",
    "                        'category_id' : dataset.label_to_coco_label(label),\n",
    "                        'score'       : float(score),\n",
    "                        'bbox'        : box.tolist(),\n",
    "                    }\n",
    "\n",
    "                    # append detection to results\n",
    "                    results.append(image_result)\n",
    "\n",
    "            # append image to list of processed images\n",
    "            image_ids.append(dataset.imgids[index])\n",
    "\n",
    "            # print progress\n",
    "            print('{}/{}'.format(index+1, len(dataset)), end='\\r')\n",
    "\n",
    "        if not len(results):\n",
    "            print(\"error\")\n",
    "            return\n",
    "        # write output\n",
    "        json.dump(results, open(f'/data/unagi0/masaoka/retinanet/bbox_results{val}.json', 'w'), indent=4)\n",
    "\n",
    "        # load results in COCO evaluation tool\n",
    "        coco_true = dataset.coco\n",
    "        coco_pred = coco_true.loadRes(f'/data/unagi0/masaoka/retinanet/bbox_results{val}.json')\n",
    "\n",
    "        # run COCO evaluation\n",
    "        coco_eval = COCOeval(coco_true, coco_pred, 'bbox')\n",
    "        coco_eval.params.imgIds = image_ids\n",
    "        coco_eval.evaluate()\n",
    "        coco_eval.accumulate()\n",
    "        coco_eval.summarize()\n",
    "\n",
    "        return\n",
    "    "
   ]
  },
  {
   "cell_type": "code",
   "execution_count": 72,
   "metadata": {},
   "outputs": [
    {
     "name": "stdout",
     "output_type": "stream",
     "text": [
      "loading annotations into memory...\n",
      "Done (t=0.31s)\n",
      "creating index...\n",
      "index created!\n",
      "creating index...\n",
      "index created!\n",
      "creating index...\n",
      "index created!\n"
     ]
    },
    {
     "name": "stderr",
     "output_type": "stream",
     "text": [
      "/home/mil/masaoka/.pyenv/versions/anaconda3-2019.10/envs/cuda9/lib/python3.8/site-packages/torch/serialization.py:657: SourceChangeWarning: source code of class 'retinanet.losses.FocalLoss' has changed. you can retrieve the original source code by accessing the object's source attribute or set `torch.nn.Module.dump_patches = True` and use the patch tool to revert the changes.\n",
      "  warnings.warn(msg, SourceChangeWarning)\n"
     ]
    },
    {
     "name": "stdout",
     "output_type": "stream",
     "text": [
      "Loading and preparing results...\n",
      "DONE (t=3.00s)\n",
      "creating index...\n",
      "index created!\n",
      "Running per image evaluation...\n",
      "Evaluate annotation type *bbox*\n",
      "DONE (t=11.47s).\n",
      "Accumulating evaluation results...\n",
      "DONE (t=7.72s).\n",
      " Average Precision  (AP) @[ IoU=0.50:0.95 | area=   all | maxDets=100 ] = 0.016\n",
      " Average Precision  (AP) @[ IoU=0.50      | area=   all | maxDets=100 ] = 0.031\n",
      " Average Precision  (AP) @[ IoU=0.75      | area=   all | maxDets=100 ] = 0.014\n",
      " Average Precision  (AP) @[ IoU=0.50:0.95 | area= small | maxDets=100 ] = -1.000\n",
      " Average Precision  (AP) @[ IoU=0.50:0.95 | area=medium | maxDets=100 ] = 0.003\n",
      " Average Precision  (AP) @[ IoU=0.50:0.95 | area= large | maxDets=100 ] = 0.017\n",
      " Average Recall     (AR) @[ IoU=0.50:0.95 | area=   all | maxDets=  1 ] = 0.041\n",
      " Average Recall     (AR) @[ IoU=0.50:0.95 | area=   all | maxDets= 10 ] = 0.096\n",
      " Average Recall     (AR) @[ IoU=0.50:0.95 | area=   all | maxDets=100 ] = 0.136\n",
      " Average Recall     (AR) @[ IoU=0.50:0.95 | area= small | maxDets=100 ] = -1.000\n",
      " Average Recall     (AR) @[ IoU=0.50:0.95 | area=medium | maxDets=100 ] = 0.124\n",
      " Average Recall     (AR) @[ IoU=0.50:0.95 | area= large | maxDets=100 ] = 0.137\n",
      "loading annotations into memory...\n",
      "Done (t=0.21s)\n",
      "creating index...\n",
      "index created!\n",
      "creating index...\n",
      "index created!\n",
      "creating index...\n",
      "index created!\n",
      "Loading and preparing results...\n",
      "DONE (t=2.52s)\n",
      "creating index...\n",
      "index created!\n",
      "Running per image evaluation...\n",
      "Evaluate annotation type *bbox*\n",
      "DONE (t=12.32s).\n",
      "Accumulating evaluation results...\n",
      "DONE (t=7.18s).\n",
      " Average Precision  (AP) @[ IoU=0.50:0.95 | area=   all | maxDets=100 ] = 0.022\n",
      " Average Precision  (AP) @[ IoU=0.50      | area=   all | maxDets=100 ] = 0.045\n",
      " Average Precision  (AP) @[ IoU=0.75      | area=   all | maxDets=100 ] = 0.020\n",
      " Average Precision  (AP) @[ IoU=0.50:0.95 | area= small | maxDets=100 ] = -1.000\n",
      " Average Precision  (AP) @[ IoU=0.50:0.95 | area=medium | maxDets=100 ] = 0.001\n",
      " Average Precision  (AP) @[ IoU=0.50:0.95 | area= large | maxDets=100 ] = 0.023\n",
      " Average Recall     (AR) @[ IoU=0.50:0.95 | area=   all | maxDets=  1 ] = 0.051\n",
      " Average Recall     (AR) @[ IoU=0.50:0.95 | area=   all | maxDets= 10 ] = 0.106\n",
      " Average Recall     (AR) @[ IoU=0.50:0.95 | area=   all | maxDets=100 ] = 0.154\n",
      " Average Recall     (AR) @[ IoU=0.50:0.95 | area= small | maxDets=100 ] = -1.000\n",
      " Average Recall     (AR) @[ IoU=0.50:0.95 | area=medium | maxDets=100 ] = 0.096\n",
      " Average Recall     (AR) @[ IoU=0.50:0.95 | area= large | maxDets=100 ] = 0.152\n"
     ]
    }
   ],
   "source": [
    "evaluate_coco(0)\n",
    "evaluate_coco(1)"
   ]
  },
  {
   "cell_type": "code",
   "execution_count": 2,
   "metadata": {},
   "outputs": [],
   "source": [
    "def evaluate_coco_weak(val, threshold=0.05):\n",
    "    config = yaml.safe_load(open('./config.yaml'))\n",
    "    dataset_means = json.load(open(config['dataset']['mean_file']))\n",
    "    dataset_all = MedicalBboxDataset(\n",
    "        config['dataset']['annotation_file'],\n",
    "        config['dataset']['image_root'])\n",
    "    if 'class_integration' in config['dataset']:\n",
    "        dataset_all = dataset_all.integrate_classes(\n",
    "            config['dataset']['class_integration']['new'],\n",
    "            config['dataset']['class_integration']['map'])\n",
    "    \n",
    "    transform = Compose([\n",
    "        transf.ToFixedSize([config['inputsize']] * 2),  # inputsize x inputsizeの画像に変換\n",
    "        transf.Normalize(dataset_means['mean'], dataset_means['std']),\n",
    "        transf.HWCToCHW()\n",
    "        ])\n",
    "\n",
    "    dataset = dataset_all.split(val, config['dataset']['split_file'])\n",
    "    dataset.set_transform(transform)\n",
    "    \n",
    "    model = ResNet50()\n",
    "    model.load_state_dict(torch.load(f\"/data/unagi0/masaoka/resnet50_classify_rotate_flip_shear[{val}].pt\"))\n",
    "    \n",
    "\n",
    "    results = []\n",
    "    image_ids = []\n",
    "    for index in range(len(dataset)):\n",
    "        data = dataset[index]\n",
    "        scale = 1   #data['scale']\n",
    "        data['img'] = torch.from_numpy(data['img']) #.permute(2, 0, 1)\n",
    "        # run network\n",
    "        if torch.cuda.is_available():\n",
    "            #scores, labels, boxes = model(data['img'].cuda().float().unsqueeze(dim=0))\n",
    "            scores, labels, boxes = model(data['img'].unsqueeze(0).float(), e=True, aug=False)\n",
    "        else:\n",
    "            scores, labels, boxes = model(data['img'].float().unsqueeze(dim=0), e=True, aug=True)\n",
    "        scores = scores.cpu()\n",
    "        labels = labels.cpu()\n",
    "        boxes  = boxes.cpu()\n",
    "\n",
    "        # correct boxes for image scale\n",
    "        boxes /= scale\n",
    "\n",
    "        if boxes.shape[0] > 0:\n",
    "            # change to (x, y, w, h) (MS COCO standard)\n",
    "            boxes[:, 2] -= boxes[:, 0]\n",
    "            boxes[:, 3] -= boxes[:, 1]\n",
    "\n",
    "            # compute predicted labels and scores\n",
    "            #for box, score, label in zip(boxes[0], scores[0], labels[0]):\n",
    "            for box_id in range(boxes.shape[0]):\n",
    "                score = float(scores[box_id])\n",
    "                label = int(labels[box_id])\n",
    "                box = boxes[box_id, :]\n",
    "                \n",
    "\n",
    "                # scores are sorted, so we can break\n",
    "                if score < threshold:\n",
    "                    break\n",
    "\n",
    "                # append detection for each positively labeled class\n",
    "                image_result = {\n",
    "                        'image_id'    : dataset.imgids[index],\n",
    "                        'category_id' : dataset.label_to_coco_label(label),\n",
    "                        'score'       : float(score),\n",
    "                        'bbox'        : box.tolist(),\n",
    "                    }\n",
    "\n",
    "                # append detection to results\n",
    "                results.append(image_result)\n",
    "\n",
    "        # append image to list of processed images\n",
    "        image_ids.append(dataset.imgids[index])\n",
    "\n",
    "        # print progress\n",
    "        print('{}/{}'.format(index+1, len(dataset)), end='\\r')\n",
    "\n",
    "    if not len(results):\n",
    "            print(\"error\")\n",
    "            return\n",
    "        # write output\n",
    "    json.dump(results, open(f'/data/unagi0/masaoka/retinanet/bbox_results_resnet50c{val}.json', 'w'), indent=4)\n",
    "\n",
    "    # load results in COCO evaluation tool\n",
    "    coco_true = dataset.coco\n",
    "    coco_pred = coco_true.loadRes(f'/data/unagi0/masaoka/retinanet/bbox_results_resnet50c{val}.json')\n",
    "\n",
    "    # run COCO evaluation\n",
    "    coco_eval = COCOeval(coco_true, coco_pred, 'bbox')\n",
    "    coco_eval.params.imgIds = image_ids\n",
    "    coco_eval.evaluate()\n",
    "    coco_eval.accumulate()\n",
    "    coco_eval.summarize()\n",
    "    return"
   ]
  },
  {
   "cell_type": "code",
   "execution_count": 3,
   "metadata": {
    "scrolled": true
   },
   "outputs": [
    {
     "name": "stdout",
     "output_type": "stream",
     "text": [
      "loading annotations into memory...\n",
      "Done (t=0.34s)\n",
      "creating index...\n",
      "index created!\n",
      "creating index...\n",
      "index created!\n",
      "creating index...\n",
      "index created!\n",
      "27/7047\r"
     ]
    },
    {
     "name": "stderr",
     "output_type": "stream",
     "text": [
      "/opt/conda/conda-bld/pytorch_1587428132279/work/aten/src/ATen/native/BinaryOps.cpp:66: UserWarning: Integer division of tensors using div or / is deprecated, and in a future release div will perform true division as in Python 3. Use true_divide or floor_divide (// in Python) instead.\n"
     ]
    },
    {
     "name": "stdout",
     "output_type": "stream",
     "text": [
      "Loading and preparing results...\n",
      "DONE (t=0.29s)\n",
      "creating index...\n",
      "index created!\n",
      "Running per image evaluation...\n",
      "Evaluate annotation type *bbox*\n",
      "DONE (t=2.75s).\n",
      "Accumulating evaluation results...\n",
      "DONE (t=0.92s).\n",
      " Average Precision  (AP) @[ IoU=0.50:0.95 | area=   all | maxDets=100 ] = 0.002\n",
      " Average Precision  (AP) @[ IoU=0.50      | area=   all | maxDets=100 ] = 0.006\n",
      " Average Precision  (AP) @[ IoU=0.75      | area=   all | maxDets=100 ] = 0.001\n",
      " Average Precision  (AP) @[ IoU=0.50:0.95 | area= small | maxDets=100 ] = -1.000\n",
      " Average Precision  (AP) @[ IoU=0.50:0.95 | area=medium | maxDets=100 ] = 0.000\n",
      " Average Precision  (AP) @[ IoU=0.50:0.95 | area= large | maxDets=100 ] = 0.003\n",
      " Average Recall     (AR) @[ IoU=0.50:0.95 | area=   all | maxDets=  1 ] = 0.000\n",
      " Average Recall     (AR) @[ IoU=0.50:0.95 | area=   all | maxDets= 10 ] = 0.053\n",
      " Average Recall     (AR) @[ IoU=0.50:0.95 | area=   all | maxDets=100 ] = 0.110\n",
      " Average Recall     (AR) @[ IoU=0.50:0.95 | area= small | maxDets=100 ] = -1.000\n",
      " Average Recall     (AR) @[ IoU=0.50:0.95 | area=medium | maxDets=100 ] = 0.046\n",
      " Average Recall     (AR) @[ IoU=0.50:0.95 | area= large | maxDets=100 ] = 0.116\n"
     ]
    }
   ],
   "source": [
    "evaluate_coco_weak(0)"
   ]
  },
  {
   "cell_type": "code",
   "execution_count": 72,
   "metadata": {},
   "outputs": [],
   "source": [
    "def evaluate_classify(val, threshold=0.05):\n",
    "    config = yaml.safe_load(open('./config.yaml'))\n",
    "    dataset_means = json.load(open(config['dataset']['mean_file']))\n",
    "    dataset_all = MedicalBboxDataset(\n",
    "        config['dataset']['annotation_file'],\n",
    "        config['dataset']['image_root'])\n",
    "    if 'class_integration' in config['dataset']:\n",
    "        dataset_all = dataset_all.integrate_classes(\n",
    "            config['dataset']['class_integration']['new'],\n",
    "            config['dataset']['class_integration']['map'])\n",
    "    \n",
    "    transform = Compose([\n",
    "        transf.ToFixedSize([config['inputsize']] * 2),  # inputsize x inputsizeの画像に変換\n",
    "        transf.Normalize(dataset_means['mean'], dataset_means['std']),\n",
    "        transf.HWCToCHW()\n",
    "        ])\n",
    "\n",
    "    dataset = dataset_all.split(val, config['dataset']['split_file'])\n",
    "    dataset.set_transform(transform)\n",
    "    dataloader_val = torch.utils.data.DataLoader(dataset, batch_size=1, shuffle=False, \n",
    "                                                num_workers=4, collate_fn=bbox_collate)\n",
    "    model = ResNet50()\n",
    "    model.load_state_dict(torch.load(f\"/data/unagi0/masaoka/resnet50_classify0.pt\"))\n",
    "    ite = 0\n",
    "    gt = [0,0,0,0]\n",
    "    tpa = np.zeros(3)\n",
    "    fpa = np.zeros(3)\n",
    "    tna = 0\n",
    "    fna = np.zeros(3)\n",
    "    with torch.no_grad():\n",
    "        for i, d in enumerate(dataloader_val):\n",
    "            scores = torch.sigmoid(model(d['img'].cuda().float()))\n",
    "            print(scores)\n",
    "            \"\"\"target = np.zeros(3)\n",
    "            for x in d[\"annot\"]:\n",
    "                target[int(x[0][4])] = 1\"\"\"\n",
    "            output = scores.cpu().data.numpy()\n",
    "            output = np.where(output>0.5,1,0)\n",
    "            target, n, t, v, u = data2target(d, torch.from_numpy(output))\n",
    "            target = target.cpu().data.numpy()\n",
    "            gt = np.array([n,t,v,u])\n",
    "            tp, fp, fn, tn = calc_confusion_matrix(output, target, gt)\n",
    "            tpa += tp\n",
    "            fpa += fp\n",
    "            fna += fn\n",
    "            tna += tn\n",
    "                \n",
    "            print(f'{i}/{len(dataset)}', end = '\\r')\n",
    "    print(gt,tpa,fpa,tna,fna)\n",
    "    return gt,tpa,fpa,tna,fna\n",
    "        \n",
    "        \n",
    "        "
   ]
  },
  {
   "cell_type": "code",
   "execution_count": 73,
   "metadata": {},
   "outputs": [
    {
     "name": "stdout",
     "output_type": "stream",
     "text": [
      "loading annotations into memory...\n",
      "Done (t=0.40s)\n",
      "creating index...\n",
      "index created!\n",
      "creating index...\n",
      "index created!\n",
      "creating index...\n",
      "index created!\n",
      "tensor([[9.9898e-01, 1.8225e-04, 5.5393e-08]], device='cuda:0')\n",
      "tensor([[1.0000e+00, 6.3562e-07, 3.1253e-10]], device='cuda:0')\n",
      "tensor([[1.0000e+00, 5.4637e-06, 4.1242e-10]], device='cuda:0')\n",
      "tensor([[9.9996e-01, 2.5933e-06, 4.7217e-10]], device='cuda:0')\n",
      "tensor([[1.0000e+00, 6.9260e-06, 2.7466e-10]], device='cuda:0')\n",
      "tensor([[1.0000e+00, 6.6762e-06, 1.3004e-09]], device='cuda:0')\n",
      "tensor([[1.0000e+00, 3.6007e-05, 9.8349e-11]], device='cuda:0')\n",
      "tensor([[1.0000e+00, 1.9932e-05, 1.0198e-09]], device='cuda:0')\n",
      "tensor([[9.9997e-01, 4.3802e-06, 1.7095e-09]], device='cuda:0')\n",
      "tensor([[1.0000e+00, 1.2542e-04, 2.3301e-09]], device='cuda:0')\n",
      "tensor([[1.0000e+00, 4.3376e-04, 2.1709e-06]], device='cuda:0')\n",
      "tensor([[9.9947e-01, 1.8118e-04, 9.1796e-07]], device='cuda:0')\n",
      "tensor([[9.9527e-01, 1.2288e-05, 2.7291e-08]], device='cuda:0')\n",
      "tensor([[2.7707e-03, 2.8107e-06, 2.5639e-06]], device='cuda:0')\n",
      "tensor([[1.0000e+00, 9.6697e-05, 1.1095e-07]], device='cuda:0')\n",
      "tensor([[1.0000e+00, 1.9082e-04, 3.3484e-07]], device='cuda:0')\n",
      "tensor([[1.0000e+00, 2.8123e-05, 2.0421e-07]], device='cuda:0')\n",
      "tensor([[1.0000e+00, 2.4322e-05, 1.7932e-08]], device='cuda:0')\n",
      "tensor([[1.0000e+00, 9.0547e-06, 1.7380e-08]], device='cuda:0')\n",
      "tensor([[1.0000e+00, 3.5877e-05, 8.1661e-07]], device='cuda:0')\n",
      "tensor([[1.0000e+00, 8.7326e-06, 5.9547e-09]], device='cuda:0')\n",
      "tensor([[1.0000e+00, 6.0199e-05, 2.0169e-07]], device='cuda:0')\n",
      "tensor([[1.0000e+00, 3.3865e-06, 2.3199e-09]], device='cuda:0')\n",
      "tensor([[1.0000e+00, 3.3857e-05, 1.4666e-08]], device='cuda:0')\n",
      "tensor([[9.9502e-01, 1.2564e-05, 1.3087e-07]], device='cuda:0')\n",
      "tensor([[1.0000e+00, 2.5095e-04, 4.9185e-08]], device='cuda:0')\n",
      "tensor([[1.2328e-01, 6.6048e-06, 4.6028e-07]], device='cuda:0')\n",
      "tensor([[9.8058e-01, 2.3266e-05, 6.4653e-07]], device='cuda:0')\n",
      "tensor([[1.0000e+00, 7.9601e-05, 6.8264e-08]], device='cuda:0')\n",
      "tensor([[9.9308e-01, 5.7657e-05, 2.9084e-07]], device='cuda:0')\n",
      "tensor([[1.0000e+00, 6.4980e-05, 2.7819e-08]], device='cuda:0')\n",
      "tensor([[9.9972e-01, 7.6779e-05, 1.6776e-07]], device='cuda:0')\n",
      "tensor([[1.0000e+00, 2.4515e-04, 2.1789e-06]], device='cuda:0')\n",
      "tensor([[9.9997e-01, 3.1000e-04, 2.9788e-06]], device='cuda:0')\n",
      "tensor([[9.6863e-01, 2.1500e-04, 1.4080e-06]], device='cuda:0')\n",
      "tensor([[9.9989e-01, 8.4949e-04, 4.2097e-06]], device='cuda:0')\n",
      "tensor([[9.9984e-01, 4.9443e-04, 5.8873e-07]], device='cuda:0')\n",
      "tensor([[9.9589e-01, 1.3071e-04, 6.7440e-08]], device='cuda:0')\n",
      "tensor([[9.9998e-01, 1.3990e-04, 2.3414e-07]], device='cuda:0')\n",
      "tensor([[9.9542e-01, 2.6985e-06, 1.1408e-08]], device='cuda:0')\n",
      "tensor([[9.9990e-01, 7.1731e-05, 4.5753e-07]], device='cuda:0')\n",
      "tensor([[9.8164e-01, 2.9439e-05, 1.0636e-06]], device='cuda:0')\n",
      "tensor([[1.0000e+00, 8.5506e-07, 1.5485e-10]], device='cuda:0')\n",
      "tensor([[2.4774e-01, 6.8099e-05, 8.2221e-07]], device='cuda:0')\n",
      "tensor([[9.9263e-01, 9.8837e-04, 2.7833e-05]], device='cuda:0')\n",
      "tensor([[1.0000e+00, 5.8049e-04, 5.2509e-07]], device='cuda:0')\n",
      "tensor([[1.0000e+00, 2.4256e-04, 1.2262e-08]], device='cuda:0')\n",
      "tensor([[1.0000e+00, 2.3731e-04, 2.8040e-08]], device='cuda:0')\n",
      "tensor([[1.0000e+00, 1.5266e-05, 1.5872e-08]], device='cuda:0')\n",
      "tensor([[1.0000e+00, 2.9237e-05, 3.7025e-08]], device='cuda:0')\n",
      "tensor([[1.0000e+00, 3.6374e-05, 4.5776e-09]], device='cuda:0')\n",
      "tensor([[1.0000e+00, 5.3016e-05, 5.7294e-09]], device='cuda:0')\n",
      "tensor([[1.0000e+00, 1.1670e-04, 9.0627e-08]], device='cuda:0')\n",
      "tensor([[1.0000e+00, 2.0321e-05, 9.7365e-10]], device='cuda:0')\n",
      "tensor([[1.0000e+00, 8.9271e-06, 4.1307e-10]], device='cuda:0')\n",
      "tensor([[1.0000e+00, 4.9829e-06, 3.9393e-11]], device='cuda:0')\n",
      "tensor([[1.0000e+00, 6.9702e-06, 2.4931e-10]], device='cuda:0')\n",
      "tensor([[1.0000e+00, 1.2254e-06, 4.7247e-11]], device='cuda:0')\n",
      "tensor([[1.0000e+00, 2.4734e-06, 7.8743e-11]], device='cuda:0')\n",
      "tensor([[1.0000e+00, 8.6573e-07, 2.2511e-11]], device='cuda:0')\n",
      "tensor([[1.0000e+00, 1.0016e-06, 4.1017e-11]], device='cuda:0')\n",
      "tensor([[1.0000e+00, 6.2166e-06, 3.6872e-09]], device='cuda:0')\n",
      "tensor([[1.0000e+00, 1.7238e-06, 1.2893e-10]], device='cuda:0')\n",
      "tensor([[1.0000e+00, 5.0815e-06, 2.7924e-10]], device='cuda:0')\n",
      "tensor([[1.0000e+00, 6.9486e-06, 1.0895e-10]], device='cuda:0')\n",
      "tensor([[1.0000e+00, 2.0262e-06, 1.3761e-11]], device='cuda:0')\n",
      "tensor([[1.0000e+00, 1.4058e-06, 8.8728e-12]], device='cuda:0')\n",
      "tensor([[1.0000e+00, 1.0310e-06, 4.6738e-12]], device='cuda:0')\n",
      "tensor([[1.0000e+00, 1.3811e-06, 7.6545e-12]], device='cuda:0')\n",
      "tensor([[1.0000e+00, 5.0485e-05, 4.1646e-07]], device='cuda:0')\n",
      "tensor([[1.0000e+00, 1.0266e-05, 2.5219e-08]], device='cuda:0')\n",
      "tensor([[1.0000e+00, 5.2801e-06, 1.1987e-08]], device='cuda:0')\n",
      "tensor([[1.0000e+00, 1.0408e-05, 5.6638e-09]], device='cuda:0')\n",
      "tensor([[1.0000e+00, 1.7265e-05, 1.6980e-09]], device='cuda:0')\n",
      "tensor([[1.0000e+00, 1.9986e-05, 6.3467e-09]], device='cuda:0')\n",
      "tensor([[1.0000e+00, 1.6303e-05, 1.5742e-10]], device='cuda:0')\n",
      "tensor([[1.0000e+00, 4.9043e-07, 1.3653e-10]], device='cuda:0')\n",
      "tensor([[1.0000e+00, 2.3883e-05, 1.4242e-09]], device='cuda:0')\n",
      "tensor([[1.0000e+00, 2.0440e-06, 1.4605e-10]], device='cuda:0')\n",
      "tensor([[1.0000e+00, 4.4087e-07, 7.2301e-12]], device='cuda:0')\n",
      "tensor([[1.0000e+00, 7.3076e-06, 5.9537e-10]], device='cuda:0')\n",
      "tensor([[1.0000e+00, 5.2834e-07, 3.7441e-13]], device='cuda:0')\n",
      "tensor([[1.0000e+00, 2.5067e-06, 5.7045e-11]], device='cuda:0')\n",
      "tensor([[1.0000e+00, 1.5794e-06, 7.6470e-12]], device='cuda:0')\n",
      "tensor([[1.0000e+00, 4.9740e-06, 4.3805e-10]], device='cuda:0')\n",
      "tensor([[1.0000e+00, 5.0312e-06, 1.6972e-10]], device='cuda:0')\n",
      "tensor([[1.0000e+00, 2.3264e-06, 4.9231e-11]], device='cuda:0')\n",
      "tensor([[1.0000e+00, 3.6640e-06, 1.5736e-10]], device='cuda:0')\n",
      "tensor([[1.0000e+00, 3.4873e-05, 4.3055e-09]], device='cuda:0')\n",
      "tensor([[1.0000e+00, 1.7523e-06, 1.4085e-10]], device='cuda:0')\n",
      "tensor([[1.0000e+00, 2.7240e-06, 1.3952e-11]], device='cuda:0')\n",
      "tensor([[1.0000e+00, 1.7256e-05, 7.7135e-09]], device='cuda:0')\n",
      "tensor([[1.0000e+00, 3.0501e-06, 5.2462e-09]], device='cuda:0')\n",
      "tensor([[1.0000e+00, 3.5905e-06, 2.9701e-08]], device='cuda:0')\n",
      "tensor([[1.0000e+00, 1.1346e-06, 4.1838e-09]], device='cuda:0')\n",
      "tensor([[1.0000e+00, 4.1858e-07, 1.7117e-11]], device='cuda:0')\n",
      "tensor([[1.0000e+00, 5.3651e-06, 1.0129e-08]], device='cuda:0')\n",
      "tensor([[1.0000e+00, 3.9346e-06, 1.9874e-09]], device='cuda:0')\n",
      "tensor([[1.0000e+00, 4.2081e-08, 2.2396e-14]], device='cuda:0')\n",
      "tensor([[1.0000e+00, 2.8502e-07, 7.6874e-12]], device='cuda:0')\n",
      "tensor([[1.0000e+00, 1.6319e-05, 5.6941e-09]], device='cuda:0')\n",
      "tensor([[1.0000e+00, 1.1923e-06, 1.1686e-09]], device='cuda:0')\n",
      "tensor([[1.0000e+00, 5.8676e-07, 6.4694e-11]], device='cuda:0')\n",
      "tensor([[1.0000e+00, 9.7490e-07, 1.4959e-10]], device='cuda:0')\n",
      "tensor([[1.0000e+00, 6.5996e-06, 6.1724e-09]], device='cuda:0')\n",
      "tensor([[1.0000e+00, 7.4002e-07, 1.5090e-09]], device='cuda:0')\n",
      "tensor([[1.0000e+00, 7.9561e-07, 1.8079e-11]], device='cuda:0')\n",
      "tensor([[1.0000e+00, 6.4148e-07, 2.9005e-11]], device='cuda:0')\n",
      "tensor([[1.0000e+00, 4.1928e-07, 5.6012e-12]], device='cuda:0')\n",
      "tensor([[1.0000e+00, 9.8038e-07, 3.1215e-11]], device='cuda:0')\n",
      "tensor([[1.0000e+00, 1.3457e-06, 3.6780e-10]], device='cuda:0')\n",
      "tensor([[1.0000e+00, 7.1791e-06, 1.4283e-08]], device='cuda:0')\n",
      "tensor([[1.0000e+00, 4.6015e-06, 1.2831e-09]], device='cuda:0')\n",
      "tensor([[1.0000e+00, 2.1939e-06, 4.7300e-11]], device='cuda:0')\n",
      "tensor([[1.0000e+00, 3.3122e-06, 2.0898e-09]], device='cuda:0')\n",
      "tensor([[1.0000e+00, 1.6828e-06, 1.6914e-11]], device='cuda:0')\n",
      "tensor([[1.0000e+00, 9.2718e-04, 1.5179e-11]], device='cuda:0')\n",
      "tensor([[1.0000e+00, 1.3881e-06, 3.5529e-08]], device='cuda:0')\n",
      "tensor([[1.0000e+00, 6.3100e-08, 2.0383e-12]], device='cuda:0')\n",
      "tensor([[1.0000e+00, 5.7052e-07, 1.6123e-11]], device='cuda:0')\n",
      "tensor([[1.0000e+00, 7.9690e-06, 7.8138e-09]], device='cuda:0')\n",
      "tensor([[1.0000e+00, 5.0061e-06, 2.9417e-09]], device='cuda:0')\n",
      "tensor([[1.0000e+00, 2.1335e-05, 2.0517e-10]], device='cuda:0')\n",
      "tensor([[1.0000e+00, 2.8426e-02, 1.0564e-10]], device='cuda:0')\n",
      "tensor([[1.0000e+00, 5.7074e-03, 9.4397e-13]], device='cuda:0')\n",
      "tensor([[1.0000e+00, 1.1866e-05, 1.1820e-09]], device='cuda:0')\n",
      "tensor([[1.0000e+00, 1.3673e-06, 2.7143e-10]], device='cuda:0')\n",
      "tensor([[1.0000e+00, 6.6981e-05, 2.2559e-10]], device='cuda:0')\n",
      "tensor([[1.0000e+00, 2.1580e-03, 1.1096e-06]], device='cuda:0')\n",
      "tensor([[1.0000e+00, 4.4048e-05, 5.3189e-09]], device='cuda:0')\n"
     ]
    },
    {
     "name": "stdout",
     "output_type": "stream",
     "text": [
      "tensor([[1.0000e+00, 2.1682e-04, 1.5704e-09]], device='cuda:0')\n",
      "tensor([[1.0000e+00, 6.1634e-07, 3.9332e-11]], device='cuda:0')\n",
      "tensor([[1.0000e+00, 2.9446e-04, 2.3667e-06]], device='cuda:0')\n",
      "tensor([[1.0000e+00, 1.0285e-05, 3.3055e-10]], device='cuda:0')\n",
      "tensor([[1.0000e+00, 1.6648e-06, 1.6590e-11]], device='cuda:0')\n",
      "tensor([[1.0000e+00, 7.3488e-06, 3.8076e-09]], device='cuda:0')\n",
      "tensor([[1.0000e+00, 6.2368e-06, 1.4210e-08]], device='cuda:0')\n",
      "tensor([[1.0000e+00, 6.9666e-06, 5.4892e-09]], device='cuda:0')\n",
      "tensor([[1.0000e+00, 1.0142e-06, 7.5731e-10]], device='cuda:0')\n",
      "tensor([[1.0000e+00, 4.7706e-06, 4.9532e-09]], device='cuda:0')\n",
      "tensor([[1.0000e+00, 8.7792e-07, 3.3753e-11]], device='cuda:0')\n",
      "tensor([[1.0000e+00, 1.1059e-06, 2.5618e-10]], device='cuda:0')\n",
      "tensor([[1.0000e+00, 2.7160e-06, 4.3978e-10]], device='cuda:0')\n",
      "tensor([[1.0000e+00, 1.7205e-06, 4.5176e-09]], device='cuda:0')\n",
      "tensor([[1.0000e+00, 6.2742e-06, 3.8795e-10]], device='cuda:0')\n",
      "tensor([[1.0000e+00, 1.3611e-06, 5.2709e-10]], device='cuda:0')\n",
      "tensor([[1.0000e+00, 2.9208e-06, 5.8192e-09]], device='cuda:0')\n",
      "tensor([[1.0000e+00, 8.4247e-06, 1.4417e-09]], device='cuda:0')\n",
      "tensor([[1.0000e+00, 1.0508e-06, 4.7863e-11]], device='cuda:0')\n",
      "tensor([[1.0000e+00, 2.0789e-05, 5.3242e-09]], device='cuda:0')\n",
      "tensor([[1.0000e+00, 3.1623e-05, 6.5829e-09]], device='cuda:0')\n",
      "tensor([[1.0000e+00, 6.5828e-05, 1.8180e-07]], device='cuda:0')\n",
      "tensor([[1.0000e+00, 4.1593e-05, 4.8610e-09]], device='cuda:0')\n",
      "tensor([[1.0000e+00, 1.6369e-05, 3.5587e-09]], device='cuda:0')\n",
      "tensor([[1.0000e+00, 6.1262e-05, 4.5295e-08]], device='cuda:0')\n",
      "tensor([[1.0000e+00, 5.0968e-05, 3.9505e-08]], device='cuda:0')\n",
      "tensor([[1.0000e+00, 5.0490e-05, 4.8539e-09]], device='cuda:0')\n",
      "tensor([[1.0000e+00, 4.5272e-05, 6.9753e-09]], device='cuda:0')\n",
      "tensor([[1.0000e+00, 1.3440e-04, 2.8642e-08]], device='cuda:0')\n",
      "tensor([[1.0000e+00, 2.1190e-05, 7.8211e-09]], device='cuda:0')\n",
      "tensor([[1.0000e+00, 3.9480e-05, 3.3655e-08]], device='cuda:0')\n",
      "tensor([[1.0000e+00, 7.3533e-05, 9.8250e-08]], device='cuda:0')\n",
      "tensor([[1.0000e+00, 3.2776e-05, 5.1607e-09]], device='cuda:0')\n",
      "tensor([[1.0000e+00, 1.2868e-04, 3.6855e-07]], device='cuda:0')\n",
      "tensor([[1.0000e+00, 2.9312e-06, 9.9266e-10]], device='cuda:0')\n",
      "tensor([[1.0000e+00, 4.7926e-07, 4.5022e-11]], device='cuda:0')\n",
      "tensor([[1.0000e+00, 9.6506e-07, 1.1477e-10]], device='cuda:0')\n",
      "tensor([[1.0000e+00, 5.7943e-07, 1.9270e-10]], device='cuda:0')\n",
      "tensor([[1.0000e+00, 1.4176e-07, 2.9079e-12]], device='cuda:0')\n",
      "tensor([[1.0000e+00, 4.7494e-07, 3.4709e-11]], device='cuda:0')\n",
      "tensor([[1.0000e+00, 4.8031e-06, 2.3518e-09]], device='cuda:0')\n",
      "tensor([[1.0000e+00, 5.3687e-06, 5.4868e-10]], device='cuda:0')\n",
      "tensor([[1.0000e+00, 3.7478e-06, 2.5452e-10]], device='cuda:0')\n",
      "tensor([[1.0000e+00, 5.3453e-06, 1.5052e-09]], device='cuda:0')\n",
      "tensor([[1.0000e+00, 5.9308e-06, 5.1954e-10]], device='cuda:0')\n",
      "tensor([[1.0000e+00, 1.1400e-05, 8.9777e-09]], device='cuda:0')\n",
      "tensor([[1.0000e+00, 8.8579e-06, 3.7058e-09]], device='cuda:0')\n",
      "tensor([[1.0000e+00, 4.9081e-06, 4.8139e-10]], device='cuda:0')\n",
      "tensor([[1.0000e+00, 2.8080e-05, 1.0302e-09]], device='cuda:0')\n",
      "tensor([[1.0000e+00, 4.5270e-04, 3.0852e-07]], device='cuda:0')\n",
      "tensor([[1.0000e+00, 5.6623e-03, 3.0957e-09]], device='cuda:0')\n",
      "tensor([[1.0000e+00, 9.6883e-05, 6.2296e-07]], device='cuda:0')\n",
      "tensor([[1.0000e+00, 4.8486e-05, 2.2660e-08]], device='cuda:0')\n",
      "tensor([[1.0000e+00, 2.3464e-05, 2.8472e-09]], device='cuda:0')\n",
      "tensor([[1.0000e+00, 2.4614e-05, 7.0837e-08]], device='cuda:0')\n",
      "tensor([[1.0000e+00, 5.8823e-06, 3.2028e-08]], device='cuda:0')\n",
      "tensor([[1.0000e+00, 8.5842e-06, 2.7447e-09]], device='cuda:0')\n",
      "tensor([[1.0000e+00, 2.0890e-05, 2.9802e-09]], device='cuda:0')\n",
      "tensor([[1.0000e+00, 1.9819e-05, 4.7418e-09]], device='cuda:0')\n",
      "tensor([[1.0000e+00, 6.9160e-06, 8.4066e-11]], device='cuda:0')\n",
      "tensor([[1.0000e+00, 1.7161e-05, 2.6006e-09]], device='cuda:0')\n",
      "tensor([[1.0000e+00, 7.8870e-05, 1.5090e-08]], device='cuda:0')\n",
      "tensor([[1.0000e+00, 1.2190e-05, 3.1163e-09]], device='cuda:0')\n",
      "tensor([[1.0000e+00, 2.6663e-05, 2.7842e-08]], device='cuda:0')\n",
      "tensor([[1.0000e+00, 6.2169e-07, 8.0677e-11]], device='cuda:0')\n",
      "tensor([[1.0000e+00, 1.1739e-05, 3.3114e-08]], device='cuda:0')\n",
      "tensor([[1.0000e+00, 3.8811e-06, 1.3838e-10]], device='cuda:0')\n",
      "tensor([[1.0000e+00, 4.5865e-06, 2.0585e-09]], device='cuda:0')\n",
      "tensor([[1.0000e+00, 1.1341e-06, 2.8998e-11]], device='cuda:0')\n",
      "tensor([[4.6341e-03, 1.7107e-04, 5.2545e-07]], device='cuda:0')\n",
      "tensor([[9.9998e-01, 9.0768e-06, 1.9312e-07]], device='cuda:0')\n",
      "tensor([[9.9908e-01, 4.2583e-06, 1.0263e-08]], device='cuda:0')\n",
      "tensor([[3.3302e-01, 1.9476e-05, 4.2494e-07]], device='cuda:0')\n",
      "tensor([[9.7221e-01, 6.0257e-06, 5.8162e-08]], device='cuda:0')\n",
      "tensor([[4.4891e-06, 4.0657e-06, 2.5361e-07]], device='cuda:0')\n",
      "tensor([[9.9995e-01, 1.6348e-06, 3.0679e-08]], device='cuda:0')\n",
      "tensor([[1.0000e+00, 1.1567e-05, 7.5758e-08]], device='cuda:0')\n",
      "tensor([[1.0000e+00, 5.8924e-06, 1.5121e-08]], device='cuda:0')\n",
      "tensor([[1.0000e+00, 2.0500e-05, 7.4772e-07]], device='cuda:0')\n",
      "tensor([[1.0000e+00, 5.9511e-06, 8.1944e-09]], device='cuda:0')\n",
      "tensor([[1.0000e+00, 3.6452e-07, 1.4718e-09]], device='cuda:0')\n",
      "tensor([[1.0000e+00, 2.9293e-07, 1.3682e-09]], device='cuda:0')\n",
      "tensor([[1.0000e+00, 2.0621e-06, 9.4330e-09]], device='cuda:0')\n",
      "tensor([[1.0000e+00, 1.4624e-07, 2.5817e-10]], device='cuda:0')\n",
      "tensor([[2.3212e-02, 2.9892e-06, 1.6471e-07]], device='cuda:0')\n",
      "tensor([[1.0000e+00, 4.7104e-06, 8.7316e-09]], device='cuda:0')\n",
      "tensor([[1.0000e+00, 2.9039e-06, 2.2482e-10]], device='cuda:0')\n",
      "tensor([[1.0000e+00, 7.8262e-05, 5.7953e-07]], device='cuda:0')\n",
      "tensor([[1.0000e+00, 3.2166e-06, 1.7580e-09]], device='cuda:0')\n",
      "tensor([[1.0000e+00, 1.1248e-06, 1.8544e-09]], device='cuda:0')\n",
      "tensor([[9.0737e-01, 3.8245e-06, 7.2330e-08]], device='cuda:0')\n",
      "tensor([[1.0000e+00, 5.3641e-06, 1.6851e-08]], device='cuda:0')\n",
      "tensor([[1.0000e+00, 1.5838e-05, 7.3265e-08]], device='cuda:0')\n",
      "tensor([[7.8710e-02, 1.9454e-06, 1.4844e-07]], device='cuda:0')\n",
      "tensor([[3.0100e-05, 3.0213e-04, 1.9347e-07]], device='cuda:0')\n",
      "tensor([[9.0857e-01, 4.4061e-05, 1.1083e-06]], device='cuda:0')\n",
      "tensor([[1.0000e+00, 1.0973e-05, 8.0572e-08]], device='cuda:0')\n",
      "tensor([[1.0000e+00, 1.4305e-05, 1.3871e-08]], device='cuda:0')\n",
      "tensor([[9.9917e-01, 4.1266e-06, 5.0825e-07]], device='cuda:0')\n",
      "tensor([[9.9521e-01, 8.0920e-06, 3.5443e-07]], device='cuda:0')\n",
      "tensor([[9.9938e-01, 1.0586e-05, 4.3423e-08]], device='cuda:0')\n",
      "tensor([[9.9991e-01, 8.3194e-07, 6.7917e-09]], device='cuda:0')\n",
      "tensor([[9.9997e-01, 7.7964e-07, 3.1616e-09]], device='cuda:0')\n",
      "tensor([[1.0000e+00, 3.3234e-07, 6.9373e-10]], device='cuda:0')\n",
      "tensor([[1.0000e+00, 5.4248e-07, 4.7256e-10]], device='cuda:0')\n",
      "tensor([[1.0000e+00, 1.0734e-06, 9.2719e-10]], device='cuda:0')\n",
      "tensor([[1.0000e+00, 3.5481e-06, 5.4828e-09]], device='cuda:0')\n",
      "tensor([[1.0000e+00, 8.5741e-06, 3.6564e-09]], device='cuda:0')\n",
      "tensor([[1.0000e+00, 7.3252e-06, 4.9734e-09]], device='cuda:0')\n",
      "tensor([[1.0000e+00, 8.2760e-06, 3.3934e-09]], device='cuda:0')\n",
      "tensor([[1.0000e+00, 1.0628e-05, 2.6534e-08]], device='cuda:0')\n",
      "tensor([[1.0000e+00, 1.9986e-05, 9.5828e-08]], device='cuda:0')\n",
      "tensor([[1.0000e+00, 1.1642e-05, 1.6587e-08]], device='cuda:0')\n",
      "tensor([[1.0000e+00, 5.5158e-05, 7.3048e-08]], device='cuda:0')\n",
      "tensor([[1.0000e+00, 8.3928e-06, 4.0205e-10]], device='cuda:0')\n",
      "tensor([[1.0000e+00, 1.9239e-06, 6.4676e-10]], device='cuda:0')\n",
      "tensor([[1.0000e+00, 4.8767e-06, 1.9021e-08]], device='cuda:0')\n",
      "tensor([[1.0000e+00, 1.7179e-06, 9.8373e-10]], device='cuda:0')\n",
      "tensor([[1.0000e+00, 4.0398e-06, 1.9077e-08]], device='cuda:0')\n",
      "tensor([[1.0000e+00, 4.7302e-06, 8.1097e-09]], device='cuda:0')\n",
      "tensor([[1.0000e+00, 7.1078e-06, 4.1901e-08]], device='cuda:0')\n",
      "tensor([[1.0000e+00, 1.5977e-06, 5.6287e-10]], device='cuda:0')\n",
      "tensor([[1.0000e+00, 1.3768e-06, 2.6214e-10]], device='cuda:0')\n",
      "tensor([[1.0000e+00, 2.9131e-06, 1.2278e-09]], device='cuda:0')\n",
      "tensor([[1.0000e+00, 2.3404e-07, 3.8080e-10]], device='cuda:0')\n",
      "tensor([[1.0000e+00, 3.1322e-06, 1.6758e-09]], device='cuda:0')\n",
      "tensor([[1.0000e+00, 4.4460e-05, 2.8522e-07]], device='cuda:0')\n",
      "tensor([[9.8874e-01, 1.1626e-06, 2.3664e-08]], device='cuda:0')\n",
      "tensor([[1.0000e+00, 3.4982e-07, 1.2062e-10]], device='cuda:0')\n",
      "tensor([[1.0000e+00, 8.4617e-06, 4.9847e-08]], device='cuda:0')\n",
      "tensor([[1.0000e+00, 1.4388e-05, 1.0049e-07]], device='cuda:0')\n",
      "tensor([[9.9972e-01, 2.0925e-05, 1.4234e-07]], device='cuda:0')\n",
      "tensor([[9.9998e-01, 4.0580e-05, 1.9210e-07]], device='cuda:0')\n",
      "tensor([[9.9998e-01, 5.5686e-07, 1.7900e-09]], device='cuda:0')\n",
      "tensor([[1.0000e+00, 7.2268e-06, 7.2039e-08]], device='cuda:0')\n",
      "tensor([[1.0000e+00, 3.7446e-07, 1.4615e-10]], device='cuda:0')\n",
      "tensor([[1.0000e+00, 2.5758e-06, 8.6359e-10]], device='cuda:0')\n",
      "tensor([[1.0000e+00, 4.2895e-06, 9.5065e-09]], device='cuda:0')\n",
      "tensor([[1.0000e+00, 1.3152e-05, 3.0561e-08]], device='cuda:0')\n",
      "tensor([[1.0000e+00, 2.3615e-06, 2.7581e-08]], device='cuda:0')\n"
     ]
    },
    {
     "name": "stdout",
     "output_type": "stream",
     "text": [
      "tensor([[1.0000e+00, 2.7875e-07, 9.0119e-11]], device='cuda:0')\n",
      "tensor([[1.0000e+00, 1.3088e-05, 1.3399e-09]], device='cuda:0')\n",
      "tensor([[1.0000e+00, 4.7485e-05, 7.2501e-08]], device='cuda:0')\n",
      "tensor([[1.0000e+00, 4.9097e-05, 1.5299e-07]], device='cuda:0')\n",
      "tensor([[1.0000e+00, 1.2742e-05, 3.5003e-08]], device='cuda:0')\n",
      "tensor([[1.0000e+00, 7.5424e-05, 1.1401e-07]], device='cuda:0')\n",
      "tensor([[1.0000e+00, 9.0204e-05, 1.4199e-07]], device='cuda:0')\n",
      "tensor([[1.0000e+00, 4.2962e-05, 4.8844e-08]], device='cuda:0')\n",
      "tensor([[9.9998e-01, 1.4881e-04, 2.1271e-07]], device='cuda:0')\n",
      "tensor([[1.0000e+00, 2.6810e-04, 1.5530e-07]], device='cuda:0')\n",
      "tensor([[9.9998e-01, 9.7130e-05, 1.1229e-07]], device='cuda:0')\n",
      "tensor([[1.0000e+00, 7.9448e-05, 8.7534e-09]], device='cuda:0')\n",
      "tensor([[1.0000e+00, 4.4142e-05, 5.2344e-08]], device='cuda:0')\n",
      "tensor([[1.0000e+00, 7.6600e-05, 3.0874e-08]], device='cuda:0')\n",
      "tensor([[1.0000e+00, 6.0995e-05, 1.3741e-08]], device='cuda:0')\n",
      "tensor([[1.0000e+00, 5.1120e-05, 1.2231e-07]], device='cuda:0')\n",
      "tensor([[9.9996e-01, 4.0401e-05, 4.7404e-08]], device='cuda:0')\n",
      "tensor([[8.5427e-01, 1.9075e-05, 1.0192e-07]], device='cuda:0')\n",
      "tensor([[1.0000e+00, 4.5338e-05, 4.7519e-09]], device='cuda:0')\n",
      "tensor([[9.5837e-01, 2.5819e-04, 5.1462e-08]], device='cuda:0')\n",
      "tensor([[9.9598e-01, 2.7217e-04, 1.1340e-07]], device='cuda:0')\n",
      "tensor([[1.0000e+00, 1.2862e-04, 5.7075e-07]], device='cuda:0')\n",
      "tensor([[1.0000e+00, 8.9377e-05, 5.6821e-07]], device='cuda:0')\n",
      "tensor([[1.0000e+00, 4.1238e-05, 3.9733e-08]], device='cuda:0')\n",
      "tensor([[9.9999e-01, 6.8631e-05, 3.3079e-07]], device='cuda:0')\n",
      "tensor([[1.0000e+00, 5.4330e-05, 3.6158e-08]], device='cuda:0')\n",
      "tensor([[1.0000e+00, 5.2539e-05, 8.6587e-08]], device='cuda:0')\n",
      "tensor([[1.0000e+00, 4.0505e-05, 8.7194e-08]], device='cuda:0')\n",
      "tensor([[1.0000e+00, 4.4621e-05, 8.5719e-08]], device='cuda:0')\n",
      "tensor([[1.0000e+00, 3.4935e-05, 4.3720e-08]], device='cuda:0')\n",
      "tensor([[1.0000e+00, 2.5131e-05, 1.6294e-07]], device='cuda:0')\n",
      "tensor([[1.0000e+00, 1.2930e-05, 5.3569e-09]], device='cuda:0')\n",
      "tensor([[1.0000e+00, 5.8981e-05, 2.4110e-07]], device='cuda:0')\n",
      "tensor([[1.0000e+00, 2.5054e-05, 7.7541e-08]], device='cuda:0')\n",
      "tensor([[1.0000e+00, 1.7090e-05, 5.8922e-08]], device='cuda:0')\n",
      "tensor([[1.0000e+00, 2.8123e-05, 4.2915e-08]], device='cuda:0')\n",
      "tensor([[1.0000e+00, 4.6770e-05, 2.0270e-07]], device='cuda:0')\n",
      "tensor([[1.0000e+00, 3.5660e-04, 1.1378e-06]], device='cuda:0')\n",
      "tensor([[1.0000e+00, 2.1386e-04, 8.5041e-07]], device='cuda:0')\n",
      "tensor([[1.0000e+00, 6.4252e-05, 4.3864e-08]], device='cuda:0')\n",
      "tensor([[1.0000e+00, 5.5423e-05, 1.2703e-07]], device='cuda:0')\n",
      "tensor([[1.0000e+00, 5.0438e-05, 3.1831e-08]], device='cuda:0')\n",
      "tensor([[1.0000e+00, 3.1449e-04, 2.0080e-07]], device='cuda:0')\n",
      "tensor([[1.0000e+00, 1.0258e-04, 6.6245e-08]], device='cuda:0')\n",
      "tensor([[1.0000e+00, 2.4367e-04, 2.0143e-07]], device='cuda:0')\n",
      "tensor([[1.0000e+00, 5.3806e-05, 7.8639e-08]], device='cuda:0')\n",
      "tensor([[1.0000e+00, 6.3219e-05, 6.0079e-09]], device='cuda:0')\n",
      "tensor([[1.0000e+00, 5.9606e-05, 1.4587e-08]], device='cuda:0')\n",
      "tensor([[1.0000e+00, 8.9840e-05, 4.9878e-08]], device='cuda:0')\n",
      "tensor([[1.0000e+00, 6.9220e-05, 4.8493e-08]], device='cuda:0')\n",
      "tensor([[1.0000e+00, 3.0813e-04, 2.9402e-07]], device='cuda:0')\n",
      "tensor([[1.0000e+00, 9.3129e-04, 4.2535e-07]], device='cuda:0')\n",
      "tensor([[1.0000e+00, 1.6186e-04, 6.4003e-09]], device='cuda:0')\n",
      "tensor([[1.0000e+00, 1.5001e-04, 9.4766e-09]], device='cuda:0')\n",
      "tensor([[1.0000e+00, 6.6806e-06, 7.4243e-10]], device='cuda:0')\n",
      "tensor([[1.0000e+00, 6.3391e-05, 8.6486e-09]], device='cuda:0')\n",
      "tensor([[1.0000e+00, 3.9336e-06, 1.1373e-08]], device='cuda:0')\n",
      "tensor([[9.9999e-01, 3.3765e-05, 2.2960e-07]], device='cuda:0')\n",
      "tensor([[1.0000e+00, 8.6829e-05, 8.6812e-08]], device='cuda:0')\n",
      "tensor([[1.0000e+00, 9.6315e-05, 3.8244e-08]], device='cuda:0')\n",
      "tensor([[1.0000e+00, 1.9788e-05, 9.0455e-08]], device='cuda:0')\n",
      "tensor([[1.0000e+00, 3.8632e-04, 3.1015e-07]], device='cuda:0')\n",
      "tensor([[1.0000e+00, 1.1561e-05, 7.2398e-09]], device='cuda:0')\n",
      "tensor([[1.0000e+00, 6.2228e-06, 3.9474e-10]], device='cuda:0')\n",
      "tensor([[1.0000e+00, 2.5651e-05, 1.3040e-08]], device='cuda:0')\n",
      "tensor([[1.0000e+00, 2.2175e-05, 1.0698e-08]], device='cuda:0')\n",
      "tensor([[1.0000e+00, 1.4388e-04, 6.4562e-07]], device='cuda:0')\n",
      "tensor([[1.0000e+00, 4.3841e-05, 8.5654e-08]], device='cuda:0')\n",
      "tensor([[9.9990e-01, 3.9066e-05, 2.6106e-07]], device='cuda:0')\n",
      "tensor([[9.9999e-01, 1.5138e-04, 9.6405e-07]], device='cuda:0')\n",
      "tensor([[9.9999e-01, 4.7417e-05, 2.0155e-07]], device='cuda:0')\n",
      "tensor([[1.0000e+00, 1.9639e-06, 5.8079e-09]], device='cuda:0')\n",
      "tensor([[1.0000e+00, 1.2061e-06, 1.8753e-09]], device='cuda:0')\n",
      "tensor([[1.0000e+00, 1.1302e-06, 3.0167e-10]], device='cuda:0')\n",
      "tensor([[1.0000e+00, 1.2650e-06, 1.4959e-10]], device='cuda:0')\n",
      "tensor([[1.0000e+00, 1.1785e-05, 9.7288e-09]], device='cuda:0')\n",
      "tensor([[1.0000e+00, 1.7852e-04, 9.7451e-08]], device='cuda:0')\n",
      "tensor([[1.0000e+00, 8.0168e-06, 3.7314e-09]], device='cuda:0')\n",
      "tensor([[1.0000e+00, 1.0134e-05, 7.8484e-09]], device='cuda:0')\n",
      "tensor([[1.0000e+00, 2.4083e-05, 1.8790e-09]], device='cuda:0')\n",
      "tensor([[1.0000e+00, 8.9646e-05, 2.9993e-07]], device='cuda:0')\n",
      "tensor([[9.9999e-01, 4.2985e-04, 3.2480e-07]], device='cuda:0')\n",
      "tensor([[1.0000e+00, 8.7665e-04, 3.9601e-08]], device='cuda:0')\n",
      "tensor([[1.0000e+00, 4.5552e-04, 2.8392e-07]], device='cuda:0')\n",
      "tensor([[1.0000e+00, 4.8068e-06, 5.2982e-09]], device='cuda:0')\n",
      "tensor([[1.0000e+00, 7.4569e-05, 3.3659e-08]], device='cuda:0')\n",
      "tensor([[9.9998e-01, 2.0591e-05, 5.5388e-08]], device='cuda:0')\n",
      "tensor([[1.0000e+00, 2.7029e-05, 1.1271e-08]], device='cuda:0')\n",
      "tensor([[1.0000e+00, 3.5514e-05, 4.0938e-08]], device='cuda:0')\n",
      "tensor([[1.0000e+00, 3.4002e-05, 2.0696e-07]], device='cuda:0')\n",
      "tensor([[1.0000e+00, 5.8799e-06, 8.8393e-09]], device='cuda:0')\n",
      "tensor([[1.0000e+00, 1.3684e-05, 7.3330e-08]], device='cuda:0')\n",
      "tensor([[1.0000e+00, 3.2539e-06, 1.1052e-09]], device='cuda:0')\n",
      "tensor([[1.0000e+00, 1.1326e-05, 1.0180e-08]], device='cuda:0')\n",
      "tensor([[1.0000e+00, 2.7543e-05, 4.9185e-09]], device='cuda:0')\n",
      "tensor([[9.9940e-01, 5.7710e-05, 1.1233e-07]], device='cuda:0')\n",
      "tensor([[1.0000e+00, 5.9091e-05, 1.5347e-07]], device='cuda:0')\n",
      "tensor([[1.0000e+00, 1.9559e-05, 5.4983e-09]], device='cuda:0')\n",
      "tensor([[1.0000e+00, 9.6994e-06, 4.3944e-09]], device='cuda:0')\n",
      "tensor([[1.0000e+00, 8.4091e-05, 1.7820e-08]], device='cuda:0')\n",
      "tensor([[9.9718e-01, 4.9794e-05, 1.4678e-07]], device='cuda:0')\n",
      "tensor([[1.0000e+00, 6.3534e-06, 6.1129e-10]], device='cuda:0')\n",
      "tensor([[9.9999e-01, 3.2177e-05, 5.7578e-07]], device='cuda:0')\n",
      "tensor([[1.0000e+00, 1.2256e-04, 2.6364e-08]], device='cuda:0')\n",
      "tensor([[1.0000e+00, 2.3617e-04, 3.1203e-07]], device='cuda:0')\n",
      "tensor([[1.0000e+00, 7.9919e-05, 3.3565e-08]], device='cuda:0')\n",
      "tensor([[1.0000e+00, 1.4182e-05, 1.1620e-08]], device='cuda:0')\n",
      "tensor([[1.0000e+00, 5.8044e-06, 4.1735e-09]], device='cuda:0')\n",
      "tensor([[1.0000e+00, 1.2757e-04, 1.0100e-07]], device='cuda:0')\n",
      "tensor([[1.0000e+00, 3.5788e-05, 1.2844e-08]], device='cuda:0')\n",
      "tensor([[1.0000e+00, 7.5329e-06, 6.1750e-09]], device='cuda:0')\n",
      "tensor([[1.0000e+00, 7.7371e-05, 1.1160e-07]], device='cuda:0')\n",
      "tensor([[1.0000e+00, 9.3449e-07, 7.6653e-10]], device='cuda:0')\n",
      "tensor([[1.0000e+00, 2.3643e-05, 5.6508e-08]], device='cuda:0')\n",
      "tensor([[1.0000e+00, 3.7996e-06, 1.1390e-08]], device='cuda:0')\n",
      "tensor([[9.9999e-01, 7.5821e-06, 1.3751e-07]], device='cuda:0')\n",
      "tensor([[9.9940e-01, 1.0207e-05, 7.4049e-08]], device='cuda:0')\n",
      "tensor([[1.0000e+00, 6.7987e-06, 2.2741e-08]], device='cuda:0')\n",
      "tensor([[1.0000e+00, 8.8364e-06, 4.1858e-09]], device='cuda:0')\n",
      "tensor([[1.0000e+00, 2.1463e-06, 2.6183e-09]], device='cuda:0')\n",
      "tensor([[1.0000e+00, 4.0730e-06, 4.4742e-10]], device='cuda:0')\n",
      "390/7810\r"
     ]
    },
    {
     "ename": "KeyboardInterrupt",
     "evalue": "",
     "output_type": "error",
     "traceback": [
      "\u001b[0;31m---------------------------------------------------------------------------\u001b[0m",
      "\u001b[0;31mKeyboardInterrupt\u001b[0m                         Traceback (most recent call last)",
      "\u001b[0;32m<ipython-input-73-cde4f70d473f>\u001b[0m in \u001b[0;36m<module>\u001b[0;34m\u001b[0m\n\u001b[0;32m----> 1\u001b[0;31m \u001b[0mevaluate_classify\u001b[0m\u001b[0;34m(\u001b[0m\u001b[0;36m4\u001b[0m\u001b[0;34m)\u001b[0m\u001b[0;34m\u001b[0m\u001b[0;34m\u001b[0m\u001b[0m\n\u001b[0m",
      "\u001b[0;32m<ipython-input-72-e8cfc005c09b>\u001b[0m in \u001b[0;36mevaluate_classify\u001b[0;34m(val, threshold)\u001b[0m\n\u001b[1;32m     30\u001b[0m     \u001b[0;32mwith\u001b[0m \u001b[0mtorch\u001b[0m\u001b[0;34m.\u001b[0m\u001b[0mno_grad\u001b[0m\u001b[0;34m(\u001b[0m\u001b[0;34m)\u001b[0m\u001b[0;34m:\u001b[0m\u001b[0;34m\u001b[0m\u001b[0;34m\u001b[0m\u001b[0m\n\u001b[1;32m     31\u001b[0m         \u001b[0;32mfor\u001b[0m \u001b[0mi\u001b[0m\u001b[0;34m,\u001b[0m \u001b[0md\u001b[0m \u001b[0;32min\u001b[0m \u001b[0menumerate\u001b[0m\u001b[0;34m(\u001b[0m\u001b[0mdataloader_val\u001b[0m\u001b[0;34m)\u001b[0m\u001b[0;34m:\u001b[0m\u001b[0;34m\u001b[0m\u001b[0;34m\u001b[0m\u001b[0m\n\u001b[0;32m---> 32\u001b[0;31m             \u001b[0mscores\u001b[0m \u001b[0;34m=\u001b[0m \u001b[0mtorch\u001b[0m\u001b[0;34m.\u001b[0m\u001b[0msigmoid\u001b[0m\u001b[0;34m(\u001b[0m\u001b[0mmodel\u001b[0m\u001b[0;34m(\u001b[0m\u001b[0md\u001b[0m\u001b[0;34m[\u001b[0m\u001b[0;34m'img'\u001b[0m\u001b[0;34m]\u001b[0m\u001b[0;34m.\u001b[0m\u001b[0mcuda\u001b[0m\u001b[0;34m(\u001b[0m\u001b[0;34m)\u001b[0m\u001b[0;34m.\u001b[0m\u001b[0mfloat\u001b[0m\u001b[0;34m(\u001b[0m\u001b[0;34m)\u001b[0m\u001b[0;34m)\u001b[0m\u001b[0;34m)\u001b[0m\u001b[0;34m\u001b[0m\u001b[0;34m\u001b[0m\u001b[0m\n\u001b[0m\u001b[1;32m     33\u001b[0m             \u001b[0mprint\u001b[0m\u001b[0;34m(\u001b[0m\u001b[0mscores\u001b[0m\u001b[0;34m)\u001b[0m\u001b[0;34m\u001b[0m\u001b[0;34m\u001b[0m\u001b[0m\n\u001b[1;32m     34\u001b[0m             \"\"\"target = np.zeros(3)\n",
      "\u001b[0;32m~/.pyenv/versions/anaconda3-2019.10/envs/cuda9/lib/python3.8/site-packages/torch/nn/modules/module.py\u001b[0m in \u001b[0;36m__call__\u001b[0;34m(self, *input, **kwargs)\u001b[0m\n\u001b[1;32m    548\u001b[0m             \u001b[0mresult\u001b[0m \u001b[0;34m=\u001b[0m \u001b[0mself\u001b[0m\u001b[0;34m.\u001b[0m\u001b[0m_slow_forward\u001b[0m\u001b[0;34m(\u001b[0m\u001b[0;34m*\u001b[0m\u001b[0minput\u001b[0m\u001b[0;34m,\u001b[0m \u001b[0;34m**\u001b[0m\u001b[0mkwargs\u001b[0m\u001b[0;34m)\u001b[0m\u001b[0;34m\u001b[0m\u001b[0;34m\u001b[0m\u001b[0m\n\u001b[1;32m    549\u001b[0m         \u001b[0;32melse\u001b[0m\u001b[0;34m:\u001b[0m\u001b[0;34m\u001b[0m\u001b[0;34m\u001b[0m\u001b[0m\n\u001b[0;32m--> 550\u001b[0;31m             \u001b[0mresult\u001b[0m \u001b[0;34m=\u001b[0m \u001b[0mself\u001b[0m\u001b[0;34m.\u001b[0m\u001b[0mforward\u001b[0m\u001b[0;34m(\u001b[0m\u001b[0;34m*\u001b[0m\u001b[0minput\u001b[0m\u001b[0;34m,\u001b[0m \u001b[0;34m**\u001b[0m\u001b[0mkwargs\u001b[0m\u001b[0;34m)\u001b[0m\u001b[0;34m\u001b[0m\u001b[0;34m\u001b[0m\u001b[0m\n\u001b[0m\u001b[1;32m    551\u001b[0m         \u001b[0;32mfor\u001b[0m \u001b[0mhook\u001b[0m \u001b[0;32min\u001b[0m \u001b[0mself\u001b[0m\u001b[0;34m.\u001b[0m\u001b[0m_forward_hooks\u001b[0m\u001b[0;34m.\u001b[0m\u001b[0mvalues\u001b[0m\u001b[0;34m(\u001b[0m\u001b[0;34m)\u001b[0m\u001b[0;34m:\u001b[0m\u001b[0;34m\u001b[0m\u001b[0;34m\u001b[0m\u001b[0m\n\u001b[1;32m    552\u001b[0m             \u001b[0mhook_result\u001b[0m \u001b[0;34m=\u001b[0m \u001b[0mhook\u001b[0m\u001b[0;34m(\u001b[0m\u001b[0mself\u001b[0m\u001b[0;34m,\u001b[0m \u001b[0minput\u001b[0m\u001b[0;34m,\u001b[0m \u001b[0mresult\u001b[0m\u001b[0;34m)\u001b[0m\u001b[0;34m\u001b[0m\u001b[0;34m\u001b[0m\u001b[0m\n",
      "\u001b[0;32m~/wsod/model.py\u001b[0m in \u001b[0;36mforward\u001b[0;34m(self, x, e, aug)\u001b[0m\n\u001b[1;32m     28\u001b[0m     \u001b[0;32mdef\u001b[0m \u001b[0mforward\u001b[0m\u001b[0;34m(\u001b[0m\u001b[0mself\u001b[0m\u001b[0;34m,\u001b[0m\u001b[0mx\u001b[0m\u001b[0;34m,\u001b[0m\u001b[0me\u001b[0m\u001b[0;34m=\u001b[0m\u001b[0;32mFalse\u001b[0m\u001b[0;34m,\u001b[0m \u001b[0maug\u001b[0m\u001b[0;34m=\u001b[0m\u001b[0;32mFalse\u001b[0m\u001b[0;34m)\u001b[0m\u001b[0;34m:\u001b[0m\u001b[0;34m\u001b[0m\u001b[0;34m\u001b[0m\u001b[0m\n\u001b[1;32m     29\u001b[0m         \u001b[0;32mif\u001b[0m \u001b[0;32mnot\u001b[0m \u001b[0me\u001b[0m\u001b[0;34m:\u001b[0m\u001b[0;34m\u001b[0m\u001b[0;34m\u001b[0m\u001b[0m\n\u001b[0;32m---> 30\u001b[0;31m             \u001b[0mx\u001b[0m \u001b[0;34m=\u001b[0m \u001b[0mself\u001b[0m\u001b[0;34m.\u001b[0m\u001b[0mresnet50\u001b[0m\u001b[0;34m(\u001b[0m\u001b[0mx\u001b[0m\u001b[0;34m)\u001b[0m\u001b[0;34m\u001b[0m\u001b[0;34m\u001b[0m\u001b[0m\n\u001b[0m\u001b[1;32m     31\u001b[0m             \u001b[0;32mreturn\u001b[0m \u001b[0mx\u001b[0m\u001b[0;34m\u001b[0m\u001b[0;34m\u001b[0m\u001b[0m\n\u001b[1;32m     32\u001b[0m \u001b[0;34m\u001b[0m\u001b[0m\n",
      "\u001b[0;32m~/.pyenv/versions/anaconda3-2019.10/envs/cuda9/lib/python3.8/site-packages/torch/nn/modules/module.py\u001b[0m in \u001b[0;36m__call__\u001b[0;34m(self, *input, **kwargs)\u001b[0m\n\u001b[1;32m    548\u001b[0m             \u001b[0mresult\u001b[0m \u001b[0;34m=\u001b[0m \u001b[0mself\u001b[0m\u001b[0;34m.\u001b[0m\u001b[0m_slow_forward\u001b[0m\u001b[0;34m(\u001b[0m\u001b[0;34m*\u001b[0m\u001b[0minput\u001b[0m\u001b[0;34m,\u001b[0m \u001b[0;34m**\u001b[0m\u001b[0mkwargs\u001b[0m\u001b[0;34m)\u001b[0m\u001b[0;34m\u001b[0m\u001b[0;34m\u001b[0m\u001b[0m\n\u001b[1;32m    549\u001b[0m         \u001b[0;32melse\u001b[0m\u001b[0;34m:\u001b[0m\u001b[0;34m\u001b[0m\u001b[0;34m\u001b[0m\u001b[0m\n\u001b[0;32m--> 550\u001b[0;31m             \u001b[0mresult\u001b[0m \u001b[0;34m=\u001b[0m \u001b[0mself\u001b[0m\u001b[0;34m.\u001b[0m\u001b[0mforward\u001b[0m\u001b[0;34m(\u001b[0m\u001b[0;34m*\u001b[0m\u001b[0minput\u001b[0m\u001b[0;34m,\u001b[0m \u001b[0;34m**\u001b[0m\u001b[0mkwargs\u001b[0m\u001b[0;34m)\u001b[0m\u001b[0;34m\u001b[0m\u001b[0;34m\u001b[0m\u001b[0m\n\u001b[0m\u001b[1;32m    551\u001b[0m         \u001b[0;32mfor\u001b[0m \u001b[0mhook\u001b[0m \u001b[0;32min\u001b[0m \u001b[0mself\u001b[0m\u001b[0;34m.\u001b[0m\u001b[0m_forward_hooks\u001b[0m\u001b[0;34m.\u001b[0m\u001b[0mvalues\u001b[0m\u001b[0;34m(\u001b[0m\u001b[0;34m)\u001b[0m\u001b[0;34m:\u001b[0m\u001b[0;34m\u001b[0m\u001b[0;34m\u001b[0m\u001b[0m\n\u001b[1;32m    552\u001b[0m             \u001b[0mhook_result\u001b[0m \u001b[0;34m=\u001b[0m \u001b[0mhook\u001b[0m\u001b[0;34m(\u001b[0m\u001b[0mself\u001b[0m\u001b[0;34m,\u001b[0m \u001b[0minput\u001b[0m\u001b[0;34m,\u001b[0m \u001b[0mresult\u001b[0m\u001b[0;34m)\u001b[0m\u001b[0;34m\u001b[0m\u001b[0;34m\u001b[0m\u001b[0m\n",
      "\u001b[0;32m~/.pyenv/versions/anaconda3-2019.10/envs/cuda9/lib/python3.8/site-packages/torchvision/models/resnet.py\u001b[0m in \u001b[0;36mforward\u001b[0;34m(self, x)\u001b[0m\n\u001b[1;32m    218\u001b[0m \u001b[0;34m\u001b[0m\u001b[0m\n\u001b[1;32m    219\u001b[0m     \u001b[0;32mdef\u001b[0m \u001b[0mforward\u001b[0m\u001b[0;34m(\u001b[0m\u001b[0mself\u001b[0m\u001b[0;34m,\u001b[0m \u001b[0mx\u001b[0m\u001b[0;34m)\u001b[0m\u001b[0;34m:\u001b[0m\u001b[0;34m\u001b[0m\u001b[0;34m\u001b[0m\u001b[0m\n\u001b[0;32m--> 220\u001b[0;31m         \u001b[0;32mreturn\u001b[0m \u001b[0mself\u001b[0m\u001b[0;34m.\u001b[0m\u001b[0m_forward_impl\u001b[0m\u001b[0;34m(\u001b[0m\u001b[0mx\u001b[0m\u001b[0;34m)\u001b[0m\u001b[0;34m\u001b[0m\u001b[0;34m\u001b[0m\u001b[0m\n\u001b[0m\u001b[1;32m    221\u001b[0m \u001b[0;34m\u001b[0m\u001b[0m\n\u001b[1;32m    222\u001b[0m \u001b[0;34m\u001b[0m\u001b[0m\n",
      "\u001b[0;32m~/.pyenv/versions/anaconda3-2019.10/envs/cuda9/lib/python3.8/site-packages/torchvision/models/resnet.py\u001b[0m in \u001b[0;36m_forward_impl\u001b[0;34m(self, x)\u001b[0m\n\u001b[1;32m    206\u001b[0m         \u001b[0mx\u001b[0m \u001b[0;34m=\u001b[0m \u001b[0mself\u001b[0m\u001b[0;34m.\u001b[0m\u001b[0mmaxpool\u001b[0m\u001b[0;34m(\u001b[0m\u001b[0mx\u001b[0m\u001b[0;34m)\u001b[0m\u001b[0;34m\u001b[0m\u001b[0;34m\u001b[0m\u001b[0m\n\u001b[1;32m    207\u001b[0m \u001b[0;34m\u001b[0m\u001b[0m\n\u001b[0;32m--> 208\u001b[0;31m         \u001b[0mx\u001b[0m \u001b[0;34m=\u001b[0m \u001b[0mself\u001b[0m\u001b[0;34m.\u001b[0m\u001b[0mlayer1\u001b[0m\u001b[0;34m(\u001b[0m\u001b[0mx\u001b[0m\u001b[0;34m)\u001b[0m\u001b[0;34m\u001b[0m\u001b[0;34m\u001b[0m\u001b[0m\n\u001b[0m\u001b[1;32m    209\u001b[0m         \u001b[0mx\u001b[0m \u001b[0;34m=\u001b[0m \u001b[0mself\u001b[0m\u001b[0;34m.\u001b[0m\u001b[0mlayer2\u001b[0m\u001b[0;34m(\u001b[0m\u001b[0mx\u001b[0m\u001b[0;34m)\u001b[0m\u001b[0;34m\u001b[0m\u001b[0;34m\u001b[0m\u001b[0m\n\u001b[1;32m    210\u001b[0m         \u001b[0mx\u001b[0m \u001b[0;34m=\u001b[0m \u001b[0mself\u001b[0m\u001b[0;34m.\u001b[0m\u001b[0mlayer3\u001b[0m\u001b[0;34m(\u001b[0m\u001b[0mx\u001b[0m\u001b[0;34m)\u001b[0m\u001b[0;34m\u001b[0m\u001b[0;34m\u001b[0m\u001b[0m\n",
      "\u001b[0;32m~/.pyenv/versions/anaconda3-2019.10/envs/cuda9/lib/python3.8/site-packages/torch/nn/modules/module.py\u001b[0m in \u001b[0;36m__call__\u001b[0;34m(self, *input, **kwargs)\u001b[0m\n\u001b[1;32m    548\u001b[0m             \u001b[0mresult\u001b[0m \u001b[0;34m=\u001b[0m \u001b[0mself\u001b[0m\u001b[0;34m.\u001b[0m\u001b[0m_slow_forward\u001b[0m\u001b[0;34m(\u001b[0m\u001b[0;34m*\u001b[0m\u001b[0minput\u001b[0m\u001b[0;34m,\u001b[0m \u001b[0;34m**\u001b[0m\u001b[0mkwargs\u001b[0m\u001b[0;34m)\u001b[0m\u001b[0;34m\u001b[0m\u001b[0;34m\u001b[0m\u001b[0m\n\u001b[1;32m    549\u001b[0m         \u001b[0;32melse\u001b[0m\u001b[0;34m:\u001b[0m\u001b[0;34m\u001b[0m\u001b[0;34m\u001b[0m\u001b[0m\n\u001b[0;32m--> 550\u001b[0;31m             \u001b[0mresult\u001b[0m \u001b[0;34m=\u001b[0m \u001b[0mself\u001b[0m\u001b[0;34m.\u001b[0m\u001b[0mforward\u001b[0m\u001b[0;34m(\u001b[0m\u001b[0;34m*\u001b[0m\u001b[0minput\u001b[0m\u001b[0;34m,\u001b[0m \u001b[0;34m**\u001b[0m\u001b[0mkwargs\u001b[0m\u001b[0;34m)\u001b[0m\u001b[0;34m\u001b[0m\u001b[0;34m\u001b[0m\u001b[0m\n\u001b[0m\u001b[1;32m    551\u001b[0m         \u001b[0;32mfor\u001b[0m \u001b[0mhook\u001b[0m \u001b[0;32min\u001b[0m \u001b[0mself\u001b[0m\u001b[0;34m.\u001b[0m\u001b[0m_forward_hooks\u001b[0m\u001b[0;34m.\u001b[0m\u001b[0mvalues\u001b[0m\u001b[0;34m(\u001b[0m\u001b[0;34m)\u001b[0m\u001b[0;34m:\u001b[0m\u001b[0;34m\u001b[0m\u001b[0;34m\u001b[0m\u001b[0m\n\u001b[1;32m    552\u001b[0m             \u001b[0mhook_result\u001b[0m \u001b[0;34m=\u001b[0m \u001b[0mhook\u001b[0m\u001b[0;34m(\u001b[0m\u001b[0mself\u001b[0m\u001b[0;34m,\u001b[0m \u001b[0minput\u001b[0m\u001b[0;34m,\u001b[0m \u001b[0mresult\u001b[0m\u001b[0;34m)\u001b[0m\u001b[0;34m\u001b[0m\u001b[0;34m\u001b[0m\u001b[0m\n",
      "\u001b[0;32m~/.pyenv/versions/anaconda3-2019.10/envs/cuda9/lib/python3.8/site-packages/torch/nn/modules/container.py\u001b[0m in \u001b[0;36mforward\u001b[0;34m(self, input)\u001b[0m\n\u001b[1;32m     98\u001b[0m     \u001b[0;32mdef\u001b[0m \u001b[0mforward\u001b[0m\u001b[0;34m(\u001b[0m\u001b[0mself\u001b[0m\u001b[0;34m,\u001b[0m \u001b[0minput\u001b[0m\u001b[0;34m)\u001b[0m\u001b[0;34m:\u001b[0m\u001b[0;34m\u001b[0m\u001b[0;34m\u001b[0m\u001b[0m\n\u001b[1;32m     99\u001b[0m         \u001b[0;32mfor\u001b[0m \u001b[0mmodule\u001b[0m \u001b[0;32min\u001b[0m \u001b[0mself\u001b[0m\u001b[0;34m:\u001b[0m\u001b[0;34m\u001b[0m\u001b[0;34m\u001b[0m\u001b[0m\n\u001b[0;32m--> 100\u001b[0;31m             \u001b[0minput\u001b[0m \u001b[0;34m=\u001b[0m \u001b[0mmodule\u001b[0m\u001b[0;34m(\u001b[0m\u001b[0minput\u001b[0m\u001b[0;34m)\u001b[0m\u001b[0;34m\u001b[0m\u001b[0;34m\u001b[0m\u001b[0m\n\u001b[0m\u001b[1;32m    101\u001b[0m         \u001b[0;32mreturn\u001b[0m \u001b[0minput\u001b[0m\u001b[0;34m\u001b[0m\u001b[0;34m\u001b[0m\u001b[0m\n\u001b[1;32m    102\u001b[0m \u001b[0;34m\u001b[0m\u001b[0m\n",
      "\u001b[0;32m~/.pyenv/versions/anaconda3-2019.10/envs/cuda9/lib/python3.8/site-packages/torch/nn/modules/module.py\u001b[0m in \u001b[0;36m__call__\u001b[0;34m(self, *input, **kwargs)\u001b[0m\n\u001b[1;32m    548\u001b[0m             \u001b[0mresult\u001b[0m \u001b[0;34m=\u001b[0m \u001b[0mself\u001b[0m\u001b[0;34m.\u001b[0m\u001b[0m_slow_forward\u001b[0m\u001b[0;34m(\u001b[0m\u001b[0;34m*\u001b[0m\u001b[0minput\u001b[0m\u001b[0;34m,\u001b[0m \u001b[0;34m**\u001b[0m\u001b[0mkwargs\u001b[0m\u001b[0;34m)\u001b[0m\u001b[0;34m\u001b[0m\u001b[0;34m\u001b[0m\u001b[0m\n\u001b[1;32m    549\u001b[0m         \u001b[0;32melse\u001b[0m\u001b[0;34m:\u001b[0m\u001b[0;34m\u001b[0m\u001b[0;34m\u001b[0m\u001b[0m\n\u001b[0;32m--> 550\u001b[0;31m             \u001b[0mresult\u001b[0m \u001b[0;34m=\u001b[0m \u001b[0mself\u001b[0m\u001b[0;34m.\u001b[0m\u001b[0mforward\u001b[0m\u001b[0;34m(\u001b[0m\u001b[0;34m*\u001b[0m\u001b[0minput\u001b[0m\u001b[0;34m,\u001b[0m \u001b[0;34m**\u001b[0m\u001b[0mkwargs\u001b[0m\u001b[0;34m)\u001b[0m\u001b[0;34m\u001b[0m\u001b[0;34m\u001b[0m\u001b[0m\n\u001b[0m\u001b[1;32m    551\u001b[0m         \u001b[0;32mfor\u001b[0m \u001b[0mhook\u001b[0m \u001b[0;32min\u001b[0m \u001b[0mself\u001b[0m\u001b[0;34m.\u001b[0m\u001b[0m_forward_hooks\u001b[0m\u001b[0;34m.\u001b[0m\u001b[0mvalues\u001b[0m\u001b[0;34m(\u001b[0m\u001b[0;34m)\u001b[0m\u001b[0;34m:\u001b[0m\u001b[0;34m\u001b[0m\u001b[0;34m\u001b[0m\u001b[0m\n\u001b[1;32m    552\u001b[0m             \u001b[0mhook_result\u001b[0m \u001b[0;34m=\u001b[0m \u001b[0mhook\u001b[0m\u001b[0;34m(\u001b[0m\u001b[0mself\u001b[0m\u001b[0;34m,\u001b[0m \u001b[0minput\u001b[0m\u001b[0;34m,\u001b[0m \u001b[0mresult\u001b[0m\u001b[0;34m)\u001b[0m\u001b[0;34m\u001b[0m\u001b[0;34m\u001b[0m\u001b[0m\n",
      "\u001b[0;32m~/.pyenv/versions/anaconda3-2019.10/envs/cuda9/lib/python3.8/site-packages/torchvision/models/resnet.py\u001b[0m in \u001b[0;36mforward\u001b[0;34m(self, x)\u001b[0m\n\u001b[1;32m    111\u001b[0m \u001b[0;34m\u001b[0m\u001b[0m\n\u001b[1;32m    112\u001b[0m         \u001b[0mout\u001b[0m \u001b[0;34m=\u001b[0m \u001b[0mself\u001b[0m\u001b[0;34m.\u001b[0m\u001b[0mconv3\u001b[0m\u001b[0;34m(\u001b[0m\u001b[0mout\u001b[0m\u001b[0;34m)\u001b[0m\u001b[0;34m\u001b[0m\u001b[0;34m\u001b[0m\u001b[0m\n\u001b[0;32m--> 113\u001b[0;31m         \u001b[0mout\u001b[0m \u001b[0;34m=\u001b[0m \u001b[0mself\u001b[0m\u001b[0;34m.\u001b[0m\u001b[0mbn3\u001b[0m\u001b[0;34m(\u001b[0m\u001b[0mout\u001b[0m\u001b[0;34m)\u001b[0m\u001b[0;34m\u001b[0m\u001b[0;34m\u001b[0m\u001b[0m\n\u001b[0m\u001b[1;32m    114\u001b[0m \u001b[0;34m\u001b[0m\u001b[0m\n\u001b[1;32m    115\u001b[0m         \u001b[0;32mif\u001b[0m \u001b[0mself\u001b[0m\u001b[0;34m.\u001b[0m\u001b[0mdownsample\u001b[0m \u001b[0;32mis\u001b[0m \u001b[0;32mnot\u001b[0m \u001b[0;32mNone\u001b[0m\u001b[0;34m:\u001b[0m\u001b[0;34m\u001b[0m\u001b[0;34m\u001b[0m\u001b[0m\n",
      "\u001b[0;32m~/.pyenv/versions/anaconda3-2019.10/envs/cuda9/lib/python3.8/site-packages/torch/nn/modules/module.py\u001b[0m in \u001b[0;36m__call__\u001b[0;34m(self, *input, **kwargs)\u001b[0m\n\u001b[1;32m    548\u001b[0m             \u001b[0mresult\u001b[0m \u001b[0;34m=\u001b[0m \u001b[0mself\u001b[0m\u001b[0;34m.\u001b[0m\u001b[0m_slow_forward\u001b[0m\u001b[0;34m(\u001b[0m\u001b[0;34m*\u001b[0m\u001b[0minput\u001b[0m\u001b[0;34m,\u001b[0m \u001b[0;34m**\u001b[0m\u001b[0mkwargs\u001b[0m\u001b[0;34m)\u001b[0m\u001b[0;34m\u001b[0m\u001b[0;34m\u001b[0m\u001b[0m\n\u001b[1;32m    549\u001b[0m         \u001b[0;32melse\u001b[0m\u001b[0;34m:\u001b[0m\u001b[0;34m\u001b[0m\u001b[0;34m\u001b[0m\u001b[0m\n\u001b[0;32m--> 550\u001b[0;31m             \u001b[0mresult\u001b[0m \u001b[0;34m=\u001b[0m \u001b[0mself\u001b[0m\u001b[0;34m.\u001b[0m\u001b[0mforward\u001b[0m\u001b[0;34m(\u001b[0m\u001b[0;34m*\u001b[0m\u001b[0minput\u001b[0m\u001b[0;34m,\u001b[0m \u001b[0;34m**\u001b[0m\u001b[0mkwargs\u001b[0m\u001b[0;34m)\u001b[0m\u001b[0;34m\u001b[0m\u001b[0;34m\u001b[0m\u001b[0m\n\u001b[0m\u001b[1;32m    551\u001b[0m         \u001b[0;32mfor\u001b[0m \u001b[0mhook\u001b[0m \u001b[0;32min\u001b[0m \u001b[0mself\u001b[0m\u001b[0;34m.\u001b[0m\u001b[0m_forward_hooks\u001b[0m\u001b[0;34m.\u001b[0m\u001b[0mvalues\u001b[0m\u001b[0;34m(\u001b[0m\u001b[0;34m)\u001b[0m\u001b[0;34m:\u001b[0m\u001b[0;34m\u001b[0m\u001b[0;34m\u001b[0m\u001b[0m\n\u001b[1;32m    552\u001b[0m             \u001b[0mhook_result\u001b[0m \u001b[0;34m=\u001b[0m \u001b[0mhook\u001b[0m\u001b[0;34m(\u001b[0m\u001b[0mself\u001b[0m\u001b[0;34m,\u001b[0m \u001b[0minput\u001b[0m\u001b[0;34m,\u001b[0m \u001b[0mresult\u001b[0m\u001b[0;34m)\u001b[0m\u001b[0;34m\u001b[0m\u001b[0;34m\u001b[0m\u001b[0m\n",
      "\u001b[0;32m~/.pyenv/versions/anaconda3-2019.10/envs/cuda9/lib/python3.8/site-packages/torch/nn/modules/batchnorm.py\u001b[0m in \u001b[0;36mforward\u001b[0;34m(self, input)\u001b[0m\n\u001b[1;32m    101\u001b[0m                     \u001b[0mexponential_average_factor\u001b[0m \u001b[0;34m=\u001b[0m \u001b[0mself\u001b[0m\u001b[0;34m.\u001b[0m\u001b[0mmomentum\u001b[0m\u001b[0;34m\u001b[0m\u001b[0;34m\u001b[0m\u001b[0m\n\u001b[1;32m    102\u001b[0m \u001b[0;34m\u001b[0m\u001b[0m\n\u001b[0;32m--> 103\u001b[0;31m         return F.batch_norm(\n\u001b[0m\u001b[1;32m    104\u001b[0m             \u001b[0minput\u001b[0m\u001b[0;34m,\u001b[0m \u001b[0mself\u001b[0m\u001b[0;34m.\u001b[0m\u001b[0mrunning_mean\u001b[0m\u001b[0;34m,\u001b[0m \u001b[0mself\u001b[0m\u001b[0;34m.\u001b[0m\u001b[0mrunning_var\u001b[0m\u001b[0;34m,\u001b[0m \u001b[0mself\u001b[0m\u001b[0;34m.\u001b[0m\u001b[0mweight\u001b[0m\u001b[0;34m,\u001b[0m \u001b[0mself\u001b[0m\u001b[0;34m.\u001b[0m\u001b[0mbias\u001b[0m\u001b[0;34m,\u001b[0m\u001b[0;34m\u001b[0m\u001b[0;34m\u001b[0m\u001b[0m\n\u001b[1;32m    105\u001b[0m             \u001b[0mself\u001b[0m\u001b[0;34m.\u001b[0m\u001b[0mtraining\u001b[0m \u001b[0;32mor\u001b[0m \u001b[0;32mnot\u001b[0m \u001b[0mself\u001b[0m\u001b[0;34m.\u001b[0m\u001b[0mtrack_running_stats\u001b[0m\u001b[0;34m,\u001b[0m\u001b[0;34m\u001b[0m\u001b[0;34m\u001b[0m\u001b[0m\n",
      "\u001b[0;32m~/.pyenv/versions/anaconda3-2019.10/envs/cuda9/lib/python3.8/site-packages/torch/nn/functional.py\u001b[0m in \u001b[0;36mbatch_norm\u001b[0;34m(input, running_mean, running_var, weight, bias, training, momentum, eps)\u001b[0m\n\u001b[1;32m   1919\u001b[0m         \u001b[0m_verify_batch_size\u001b[0m\u001b[0;34m(\u001b[0m\u001b[0minput\u001b[0m\u001b[0;34m.\u001b[0m\u001b[0msize\u001b[0m\u001b[0;34m(\u001b[0m\u001b[0;34m)\u001b[0m\u001b[0;34m)\u001b[0m\u001b[0;34m\u001b[0m\u001b[0;34m\u001b[0m\u001b[0m\n\u001b[1;32m   1920\u001b[0m \u001b[0;34m\u001b[0m\u001b[0m\n\u001b[0;32m-> 1921\u001b[0;31m     return torch.batch_norm(\n\u001b[0m\u001b[1;32m   1922\u001b[0m         \u001b[0minput\u001b[0m\u001b[0;34m,\u001b[0m \u001b[0mweight\u001b[0m\u001b[0;34m,\u001b[0m \u001b[0mbias\u001b[0m\u001b[0;34m,\u001b[0m \u001b[0mrunning_mean\u001b[0m\u001b[0;34m,\u001b[0m \u001b[0mrunning_var\u001b[0m\u001b[0;34m,\u001b[0m\u001b[0;34m\u001b[0m\u001b[0;34m\u001b[0m\u001b[0m\n\u001b[1;32m   1923\u001b[0m         \u001b[0mtraining\u001b[0m\u001b[0;34m,\u001b[0m \u001b[0mmomentum\u001b[0m\u001b[0;34m,\u001b[0m \u001b[0meps\u001b[0m\u001b[0;34m,\u001b[0m \u001b[0mtorch\u001b[0m\u001b[0;34m.\u001b[0m\u001b[0mbackends\u001b[0m\u001b[0;34m.\u001b[0m\u001b[0mcudnn\u001b[0m\u001b[0;34m.\u001b[0m\u001b[0menabled\u001b[0m\u001b[0;34m\u001b[0m\u001b[0;34m\u001b[0m\u001b[0m\n",
      "\u001b[0;31mKeyboardInterrupt\u001b[0m: "
     ]
    }
   ],
   "source": [
    "evaluate_classify(4)"
   ]
  },
  {
   "cell_type": "code",
   "execution_count": 64,
   "metadata": {
    "scrolled": true
   },
   "outputs": [
    {
     "name": "stdout",
     "output_type": "stream",
     "text": [
      "loading annotations into memory...\n",
      "Done (t=0.32s)\n",
      "creating index...\n",
      "index created!\n",
      "creating index...\n",
      "index created!\n",
      "creating index...\n",
      "index created!\n",
      "[982, 75, 76, 5914] [624, 62, 75] [282, 33, 0] [5590] [358, 13, 1]\n",
      "loading annotations into memory...\n",
      "Done (t=0.32s)\n",
      "creating index...\n",
      "index created!\n",
      "creating index...\n",
      "index created!\n",
      "creating index...\n",
      "index created!\n",
      "[914, 141, 76, 6572] [826, 67, 76] [172, 219, 0] [6189] [88, 74, 0]\n",
      "loading annotations into memory...\n",
      "Done (t=0.17s)\n",
      "creating index...\n",
      "index created!\n",
      "creating index...\n",
      "index created!\n",
      "creating index...\n",
      "index created!\n",
      "[820, 94, 76, 7379] [792, 71, 76] [380, 6, 0] [6972] [28, 23, 0]\n",
      "loading annotations into memory...\n",
      "Done (t=0.36s)\n",
      "creating index...\n",
      "index created!\n",
      "creating index...\n",
      "index created!\n",
      "creating index...\n",
      "index created!\n",
      "[1101, 77, 75, 7781] [1029, 63, 75] [1359, 40, 0] [6342] [72, 14, 0]\n",
      "loading annotations into memory...\n",
      "Done (t=0.17s)\n",
      "creating index...\n",
      "index created!\n",
      "creating index...\n",
      "index created!\n",
      "creating index...\n",
      "index created!\n",
      "[773, 151, 95, 6791] [742, 105, 95] [525, 19, 0] [6247] [31, 46, 0]\n",
      "[[624, 826, 792, 1029, 742], [62, 67, 71, 63, 105], [75, 76, 76, 75, 95]]\n",
      "[[282, 172, 380, 1359, 525], [33, 219, 6, 40, 19], [0, 0, 0, 0, 0]]\n",
      "[[5783, 6617, 7169, 6574, 6512], [6939, 7343, 8269, 8917, 7640], [6971, 7627, 8293, 8959, 7715]]\n",
      "[[358, 88, 28, 72, 31], [13, 74, 23, 14, 46], [1, 0, 0, 0, 0]]\n"
     ]
    }
   ],
   "source": [
    "tpa,fpa,tna,fna  = [[],[],[]], [[],[],[]], [[],[],[]], [[],[],[]],\n",
    "for i in range(5):\n",
    "    gt, tp,fp,tn,fn = evaluate_classify(i)\n",
    "    for i in range(3):\n",
    "        tpa[i].append(tp[i])\n",
    "        fpa[i].append(fp[i])\n",
    "        fna[i].append(fn[i])\n",
    "        tna[i].append(sum(gt)-tp[i]-fp[i]-fn[i])\n",
    "print(tpa)\n",
    "print(fpa)\n",
    "print(tna)\n",
    "print(fna)"
   ]
  },
  {
   "cell_type": "code",
   "execution_count": 1,
   "metadata": {},
   "outputs": [],
   "source": [
    "import torch\n",
    "import numpy as np"
   ]
  },
  {
   "cell_type": "code",
   "execution_count": 19,
   "metadata": {},
   "outputs": [
    {
     "ename": "TypeError",
     "evalue": "where(): argument 'input' (position 2) must be Tensor, not float",
     "output_type": "error",
     "traceback": [
      "\u001b[0;31m---------------------------------------------------------------------------\u001b[0m",
      "\u001b[0;31mTypeError\u001b[0m                                 Traceback (most recent call last)",
      "\u001b[0;32m<ipython-input-19-6b80dc2e6c4c>\u001b[0m in \u001b[0;36m<module>\u001b[0;34m\u001b[0m\n\u001b[1;32m      1\u001b[0m \u001b[0ma\u001b[0m \u001b[0;34m=\u001b[0m \u001b[0mtorch\u001b[0m\u001b[0;34m.\u001b[0m\u001b[0mtensor\u001b[0m\u001b[0;34m(\u001b[0m\u001b[0;34m[\u001b[0m\u001b[0;36m0.1\u001b[0m\u001b[0;34m,\u001b[0m\u001b[0;36m0.5\u001b[0m\u001b[0;34m,\u001b[0m\u001b[0;36m0.6\u001b[0m\u001b[0;34m,\u001b[0m\u001b[0;36m0.3\u001b[0m\u001b[0;34m]\u001b[0m\u001b[0;34m)\u001b[0m\u001b[0;34m.\u001b[0m\u001b[0mrequires_grad_\u001b[0m\u001b[0;34m(\u001b[0m\u001b[0;34m)\u001b[0m\u001b[0;34m\u001b[0m\u001b[0;34m\u001b[0m\u001b[0m\n\u001b[0;32m----> 2\u001b[0;31m \u001b[0mb\u001b[0m \u001b[0;34m=\u001b[0m \u001b[0mtorch\u001b[0m\u001b[0;34m.\u001b[0m\u001b[0mwhere\u001b[0m\u001b[0;34m(\u001b[0m\u001b[0ma\u001b[0m\u001b[0;34m>\u001b[0m\u001b[0;36m0.5\u001b[0m\u001b[0;34m,\u001b[0m \u001b[0;36m1.\u001b[0m\u001b[0;34m,\u001b[0m \u001b[0;36m0.\u001b[0m\u001b[0;34m)\u001b[0m\u001b[0;34m\u001b[0m\u001b[0;34m\u001b[0m\u001b[0m\n\u001b[0m\u001b[1;32m      3\u001b[0m \u001b[0mloss\u001b[0m \u001b[0;34m=\u001b[0m \u001b[0;34m(\u001b[0m\u001b[0mb\u001b[0m\u001b[0;34m)\u001b[0m\u001b[0;34m.\u001b[0m\u001b[0msum\u001b[0m\u001b[0;34m(\u001b[0m\u001b[0;34m)\u001b[0m\u001b[0;34m\u001b[0m\u001b[0;34m\u001b[0m\u001b[0m\n\u001b[1;32m      4\u001b[0m \u001b[0mloss\u001b[0m\u001b[0;34m.\u001b[0m\u001b[0mbackward\u001b[0m\u001b[0;34m(\u001b[0m\u001b[0;34m)\u001b[0m\u001b[0;34m\u001b[0m\u001b[0;34m\u001b[0m\u001b[0m\n",
      "\u001b[0;31mTypeError\u001b[0m: where(): argument 'input' (position 2) must be Tensor, not float"
     ]
    }
   ],
   "source": [
    "a = torch.tensor([0.1,0.5,0.6,0.3]).requires_grad_()\n",
    "c = torch.tensor([1,1,1,1])\n",
    "d = torch.tensor([0,0,0,0])\n",
    "b = torch.where(a>0.5, 1., 0.)\n",
    "loss = (b).sum()\n",
    "loss.backward()"
   ]
  },
  {
   "cell_type": "code",
   "execution_count": 16,
   "metadata": {},
   "outputs": [
    {
     "name": "stdout",
     "output_type": "stream",
     "text": [
      "tensor([0.2000, 1.0000, 1.2000, 0.6000])\n"
     ]
    }
   ],
   "source": [
    "print(a.grad)"
   ]
  },
  {
   "cell_type": "code",
   "execution_count": 4,
   "metadata": {},
   "outputs": [
    {
     "ename": "TypeError",
     "evalue": "zeros_like(): argument 'input' (position 1) must be Tensor, not numpy.ndarray",
     "output_type": "error",
     "traceback": [
      "\u001b[0;31m---------------------------------------------------------------------------\u001b[0m",
      "\u001b[0;31mTypeError\u001b[0m                                 Traceback (most recent call last)",
      "\u001b[0;32m<ipython-input-4-f4edad7bec7c>\u001b[0m in \u001b[0;36m<module>\u001b[0;34m\u001b[0m\n\u001b[0;32m----> 1\u001b[0;31m \u001b[0mtorch\u001b[0m\u001b[0;34m.\u001b[0m\u001b[0mzeros_like\u001b[0m\u001b[0;34m(\u001b[0m\u001b[0mnp\u001b[0m\u001b[0;34m.\u001b[0m\u001b[0marray\u001b[0m\u001b[0;34m(\u001b[0m\u001b[0;34m[\u001b[0m\u001b[0;36m1\u001b[0m\u001b[0;34m,\u001b[0m\u001b[0;36m2\u001b[0m\u001b[0;34m]\u001b[0m\u001b[0;34m)\u001b[0m\u001b[0;34m)\u001b[0m\u001b[0;34m\u001b[0m\u001b[0;34m\u001b[0m\u001b[0m\n\u001b[0m",
      "\u001b[0;31mTypeError\u001b[0m: zeros_like(): argument 'input' (position 1) must be Tensor, not numpy.ndarray"
     ]
    }
   ],
   "source": [
    "torch.zeros_like(np.array([1,2]))"
   ]
  },
  {
   "cell_type": "code",
   "execution_count": 2,
   "metadata": {},
   "outputs": [
    {
     "data": {
      "text/plain": [
       "1"
      ]
     },
     "execution_count": 2,
     "metadata": {},
     "output_type": "execute_result"
    }
   ],
   "source": [
    "a = np.array([[1,0,0], \n",
    "                        [0,0,0], \n",
    "                        [0,1,1]])\n",
    "\n",
    "b = np.array([[1,0,0],\n",
    "                        [0,0,0],\n",
    "                        [0,1,0]])\n",
    "result = np.all((a-b)==0,axis=1)\n",
    "np.all((1-a)*(1-b), axis = 1).sum()"
   ]
  },
  {
   "cell_type": "code",
   "execution_count": 7,
   "metadata": {},
   "outputs": [
    {
     "data": {
      "text/plain": [
       "tensor([[0.7311, 0.5000, 0.5000],\n",
       "        [0.5000, 0.5000, 0.5000],\n",
       "        [0.5000, 0.7311, 0.7311]])"
      ]
     },
     "execution_count": 7,
     "metadata": {},
     "output_type": "execute_result"
    }
   ],
   "source": [
    "torch.sigmoid(torch.from_numpy(a).float())"
   ]
  },
  {
   "cell_type": "code",
   "execution_count": 3,
   "metadata": {},
   "outputs": [
    {
     "data": {
      "text/plain": [
       "array([[1, 0, 0],\n",
       "       [0, 0, 0],\n",
       "       [0, 1, 0]])"
      ]
     },
     "execution_count": 3,
     "metadata": {},
     "output_type": "execute_result"
    }
   ],
   "source": [
    "c = b*a\n",
    "c"
   ]
  },
  {
   "cell_type": "code",
   "execution_count": 59,
   "metadata": {},
   "outputs": [
    {
     "data": {
      "text/plain": [
       "array([2, 1, 1])"
      ]
     },
     "execution_count": 59,
     "metadata": {},
     "output_type": "execute_result"
    }
   ],
   "source": [
    "c.sum(axis = 0)"
   ]
  },
  {
   "cell_type": "code",
   "execution_count": 56,
   "metadata": {},
   "outputs": [],
   "source": [
    "c[2] = 1"
   ]
  },
  {
   "cell_type": "code",
   "execution_count": 62,
   "metadata": {},
   "outputs": [
    {
     "data": {
      "text/plain": [
       "array([0.33333333, 0.5       , 0.5       ])"
      ]
     },
     "execution_count": 62,
     "metadata": {},
     "output_type": "execute_result"
    }
   ],
   "source": [
    "1/(c.sum(axis = 0) + 1)"
   ]
  },
  {
   "cell_type": "code",
   "execution_count": 63,
   "metadata": {},
   "outputs": [],
   "source": [
    "c = c.sum(axis=0)"
   ]
  },
  {
   "cell_type": "code",
   "execution_count": 34,
   "metadata": {},
   "outputs": [],
   "source": [
    "c=np.array([[1,0,9],\n",
    "                        [0,0,0],\n",
    "                        [0,1,10]])"
   ]
  },
  {
   "cell_type": "code",
   "execution_count": 36,
   "metadata": {},
   "outputs": [
    {
     "data": {
      "text/plain": [
       "array([10,  0, 11])"
      ]
     },
     "execution_count": 36,
     "metadata": {},
     "output_type": "execute_result"
    }
   ],
   "source": [
    "c.sum(axis=1)"
   ]
  },
  {
   "cell_type": "code",
   "execution_count": 66,
   "metadata": {},
   "outputs": [
    {
     "data": {
      "text/plain": [
       "array([2, 1, 1])"
      ]
     },
     "execution_count": 66,
     "metadata": {},
     "output_type": "execute_result"
    }
   ],
   "source": [
    "c"
   ]
  },
  {
   "cell_type": "code",
   "execution_count": 67,
   "metadata": {},
   "outputs": [
    {
     "data": {
      "text/plain": [
       "2"
      ]
     },
     "execution_count": 67,
     "metadata": {},
     "output_type": "execute_result"
    }
   ],
   "source": [
    "c[0]"
   ]
  },
  {
   "cell_type": "code",
   "execution_count": 83,
   "metadata": {},
   "outputs": [],
   "source": [
    "a = torch.tensor([1,2]*5).reshape(-1,2)"
   ]
  },
  {
   "cell_type": "code",
   "execution_count": 84,
   "metadata": {},
   "outputs": [
    {
     "data": {
      "text/plain": [
       "tensor([[1, 2],\n",
       "        [1, 2],\n",
       "        [1, 2],\n",
       "        [1, 2],\n",
       "        [1, 2]])"
      ]
     },
     "execution_count": 84,
     "metadata": {},
     "output_type": "execute_result"
    }
   ],
   "source": [
    "a"
   ]
  },
  {
   "cell_type": "code",
   "execution_count": 87,
   "metadata": {},
   "outputs": [
    {
     "data": {
      "text/plain": [
       "1"
      ]
     },
     "execution_count": 87,
     "metadata": {},
     "output_type": "execute_result"
    }
   ],
   "source": [
    "a=np.array([1])\n",
    "a.ndim"
   ]
  },
  {
   "cell_type": "code",
   "execution_count": null,
   "metadata": {},
   "outputs": [],
   "source": []
  }
 ],
 "metadata": {
  "kernelspec": {
   "display_name": "Python 3",
   "language": "python",
   "name": "python3"
  }
 },
 "nbformat": 4,
 "nbformat_minor": 4
}
