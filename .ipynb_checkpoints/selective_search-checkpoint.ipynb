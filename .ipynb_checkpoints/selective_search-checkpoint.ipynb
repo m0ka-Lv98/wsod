{
 "cells": [
  {
   "cell_type": "code",
   "execution_count": 1,
   "metadata": {},
   "outputs": [],
   "source": [
    "from dataset import *\n",
    "from selective_search import selective_search\n",
    "import numpy as np\n",
    "import json\n",
    "from collections import OrderedDict\n",
    "import concurrent.futures"
   ]
  },
  {
   "cell_type": "code",
   "execution_count": 2,
   "metadata": {},
   "outputs": [],
   "source": [
    "image_root = \"/data/unagi0/masaoka/dataset/capsule/capsule_crop\"\n",
    "annotation_file = \"/data/unagi0/masaoka/endoscopy/annotations/cleanup0906/capsule_cocoformat.json\"\n",
    "MODE = \"fast\""
   ]
  },
  {
   "cell_type": "code",
   "execution_count": 3,
   "metadata": {},
   "outputs": [
    {
     "name": "stdout",
     "output_type": "stream",
     "text": [
      "loading annotations into memory...\n",
      "Done (t=0.27s)\n",
      "creating index...\n",
      "index created!\n"
     ]
    }
   ],
   "source": [
    "d = MedicalBboxDataset(annotation = annotation_file, data_path = image_root)"
   ]
  },
  {
   "cell_type": "code",
   "execution_count": 4,
   "metadata": {},
   "outputs": [],
   "source": [
    "def annotations(ids, bboxes):\n",
    "    tmp = OrderedDict()\n",
    "    tmp[f\"p_bbox{ids}\"] = bboxes\n",
    "    return tmp"
   ]
  },
  {
   "cell_type": "code",
   "execution_count": 5,
   "metadata": {},
   "outputs": [],
   "source": [
    "def impl_ss(num):\n",
    "    for i, imgids in enumerate(d.imgids):\n",
    "        if i < num:\n",
    "            continue\n",
    "        if i >= num+2500:\n",
    "            break\n",
    "        print(i)\n",
    "        x = d.load_image(imgids)\n",
    "        boxes = selective_search(x, mode = MODE, random_sort = True)[:2000]\n",
    "        tmp = annotations(imgids, boxes)\n",
    "    return tmp"
   ]
  },
  {
   "cell_type": "code",
   "execution_count": null,
   "metadata": {},
   "outputs": [
    {
     "name": "stdout",
     "output_type": "stream",
     "text": [
      "0\n",
      "5000\n",
      "2500\n",
      "12500\n",
      "25000\n",
      "22500\n",
      "15000\n",
      "20000\n",
      "30000\n",
      "17500\n",
      "27500\n",
      "32500\n",
      "37500\n",
      "35000\n",
      "7500\n",
      "10000\n",
      "17501\n",
      "15001\n",
      "1\n",
      "2501\n",
      "27501\n",
      "25001\n",
      "5001\n",
      "10001\n",
      "32501\n",
      "22501\n",
      "37501\n",
      "20001\n",
      "7501\n",
      "30001\n",
      "35001\n",
      "12501\n",
      "2\n",
      "25002\n",
      "15002\n",
      "17502\n",
      "27502\n",
      "2502\n",
      "32502\n",
      "5002\n",
      "12502\n",
      "10002\n",
      "35002\n",
      "30002\n",
      "20002\n",
      "37502\n",
      "22502\n",
      "7502\n",
      "3\n",
      "25003\n",
      "15003\n",
      "17503\n",
      "2503\n",
      "27503\n",
      "32503\n",
      "5003\n",
      "12503\n",
      "22503\n",
      "7503\n",
      "30003\n",
      "10003\n",
      "35003\n",
      "20003\n",
      "37503\n",
      "4\n",
      "25004\n",
      "15004\n",
      "2504\n",
      "17504\n",
      "27504\n",
      "32504\n",
      "5004\n",
      "12504\n",
      "5\n",
      "20004\n",
      "25005\n",
      "35004\n",
      "22504\n",
      "7504\n",
      "37504\n",
      "30004\n",
      "10004\n",
      "2505\n",
      "15005\n",
      "17505\n",
      "27505\n",
      "25006\n",
      "32505\n",
      "5005\n",
      "12505\n",
      "6\n",
      "22505\n",
      "20005\n",
      "37505\n",
      "35005\n",
      "7505\n",
      "30005\n",
      "10005\n",
      "15006\n",
      "2506\n",
      "17506\n",
      "27506\n",
      "7\n",
      "25007\n",
      "32506\n",
      "5006\n",
      "12506\n"
     ]
    }
   ],
   "source": [
    "js = OrderedDict()\n",
    "nums = [2500*i for i in range(16)]\n",
    "with concurrent.futures.ProcessPoolExecutor(max_workers=16) as excuter:\n",
    "    result = list(excuter.map(impl_ss, nums))\n",
    "js[\"pseudo_annotations\"] = result\n",
    "with open(\"/data/unagi0/masaoka/endoscopy/annotations/pseudo_annotations.json\", \"w\") as f:\n",
    "    json.dump(js, f, indent=2)"
   ]
  },
  {
   "cell_type": "code",
   "execution_count": null,
   "metadata": {},
   "outputs": [],
   "source": []
  }
 ],
 "metadata": {
  "kernelspec": {
   "display_name": "Python 3",
   "language": "python",
   "name": "python3"
  },
  "language_info": {
   "codemirror_mode": {
    "name": "ipython",
    "version": 3
   },
   "file_extension": ".py",
   "mimetype": "text/x-python",
   "name": "python",
   "nbconvert_exporter": "python",
   "pygments_lexer": "ipython3",
   "version": "3.8.2"
  }
 },
 "nbformat": 4,
 "nbformat_minor": 4
}
